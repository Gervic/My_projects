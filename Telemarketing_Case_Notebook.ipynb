{
 "cells": [
  {
   "cell_type": "markdown",
   "metadata": {},
   "source": [
    "# CASE - ANÁLISE TELEMARKETING\n",
    "\n",
    "## Contexto\n",
    "\n",
    "Os depósitos a prazo são uma importante fonte de receita para um banco. Um depósito a prazo é um investimento em dinheiro mantido em uma instituição financeira. Seu dinheiro é investido por uma taxa de juros acordada por um período fixo de tempo ou prazo. O banco tem vários planos de divulgação para vender depósitos a prazo para seus clientes como marketing por e-mail, anúncios, marketing telefônico e marketing digital. As campanhas de marketing telefônico ainda são uma das formas mais eficazes de chegar às pessoas. No entanto, eles exigem um grande investimento, uma vez que grandes call centers são contratados para realmente executar essas campanhas. Portanto, é crucial identificar com antecedência os clientes com maior probabilidade de conversão, para que possam ser visados especificamente por meio de uma ligação.\n",
    "\n",
    "## Objetivos\n",
    "\n",
    "Entender como as informações disponíveis dos clientes podem ajudar a descobrirmos/prevermos os clientes com maior probabilidade de conversão (ou seja, de fazer um depósito a prazo), para que possam ser especificamente contatados por meio de uma ligação e para que não seja gasto mais dinheiro que o necessário.\n",
    "\n",
    "Utilizar os métodos de análise de dados e os modelos de machine learning para conseguir selecionar as variáveis, tratar os\n",
    "dados e prever quais clientes têm a maior probabilidade de conversão.\n"
   ]
  },
  {
   "cell_type": "markdown",
   "metadata": {},
   "source": [
    "## Importação dos dados "
   ]
  },
  {
   "cell_type": "code",
   "execution_count": 3,
   "metadata": {},
   "outputs": [
    {
     "name": "stdout",
     "output_type": "stream",
     "text": [
      "O número de observações do dataset Train é:  45211\n",
      "O número de observações do dataset Test é:  4521\n"
     ]
    }
   ],
   "source": [
    "# Importar a biblioteca pandas\n",
    "import pandas as pd \n",
    "# Fazer a leitura dos arquivos csv e salvar dentro de uma variável\n",
    "df_train = pd.read_csv('train.csv')\n",
    "df_test = pd.read_csv('test.csv')\n",
    "# Ver o número de observações em cada arquivo\n",
    "print('O número de observações do dataset Train é: ', len(df_train))\n",
    "print('O número de observações do dataset Test é: ', len(df_test))"
   ]
  },
  {
   "cell_type": "markdown",
   "metadata": {},
   "source": [
    "## Exploração dos dados "
   ]
  },
  {
   "cell_type": "code",
   "execution_count": 4,
   "metadata": {},
   "outputs": [
    {
     "data": {
      "text/plain": [
       "(45211, 15)"
      ]
     },
     "execution_count": 4,
     "metadata": {},
     "output_type": "execute_result"
    }
   ],
   "source": [
    "df_train.shape "
   ]
  },
  {
   "cell_type": "markdown",
   "metadata": {},
   "source": [
    "O dataframe \" train \" tem 45211 linhas e 15 colunas"
   ]
  },
  {
   "cell_type": "code",
   "execution_count": 5,
   "metadata": {},
   "outputs": [
    {
     "data": {
      "text/plain": [
       "(4521, 15)"
      ]
     },
     "execution_count": 5,
     "metadata": {},
     "output_type": "execute_result"
    }
   ],
   "source": [
    "df_test.shape "
   ]
  },
  {
   "cell_type": "markdown",
   "metadata": {},
   "source": [
    "O dataframe \" test \" tem 4521 linhas e 15 colunas"
   ]
  },
  {
   "cell_type": "code",
   "execution_count": 6,
   "metadata": {},
   "outputs": [
    {
     "data": {
      "text/plain": [
       "Index(['age', 'job', 'marital', 'education', 'default', 'balance', 'housing',\n",
       "       'loan', 'contact', 'duration', 'campaign', 'pdays', 'previous',\n",
       "       'poutcome', 'y'],\n",
       "      dtype='object')"
      ]
     },
     "execution_count": 6,
     "metadata": {},
     "output_type": "execute_result"
    }
   ],
   "source": [
    "#lista das colunas do df_train\n",
    "df_train.columns "
   ]
  },
  {
   "cell_type": "code",
   "execution_count": 7,
   "metadata": {
    "scrolled": false
   },
   "outputs": [
    {
     "data": {
      "text/plain": [
       "Index(['age', 'job', 'marital', 'education', 'default', 'balance', 'housing',\n",
       "       'loan', 'contact', 'duration', 'campaign', 'pdays', 'previous',\n",
       "       'poutcome', 'y'],\n",
       "      dtype='object')"
      ]
     },
     "execution_count": 7,
     "metadata": {},
     "output_type": "execute_result"
    }
   ],
   "source": [
    "#lista das colunas do df_test\n",
    "df_test.columns "
   ]
  },
  {
   "cell_type": "markdown",
   "metadata": {},
   "source": [
    "**O que significa cada coluna?**\n",
    "\n",
    "* **age:** Age of the client / Idade do cliente\n",
    "* **job:** Type of job / Tipo de trabalho\n",
    "* **marital:** Marital Status of the client / Estado civil do cliente\n",
    "* **education:** Education Level / Nível de educação\n",
    "* **default:** Credit in default / Crédito em inadimplência\n",
    "* **balance:** Average yearly balance, in euros / Saldo médio anual, em euros\n",
    "* **housing:** If the person has taken a Housing Loan / Se a pessoa fez um Empréstimo para Habitação\n",
    "* **loan:** If the person has taken a Personal Loan / Se a pessoa fez um empréstimo pessoal\n",
    "* **contact:** Contact communication type / Tipo de comunicação para contato\n",
    "* **duration:** Contact Duration / Duração do contato\n",
    "* **campaign:** number of contacts performed during this campaign to the client / número de contatos realizados durante esta campanha para o cliente\n",
    "* **pdays:** number of days that passed by after the client was last contacted / número de dias que se passaram depois que o cliente foi contatado pela última vez\n",
    "* **previous:** number of contacts performed before this campaign / número de contatos realizados antes desta campanha\n",
    "* **poutcome:** outcome of the previous marketing campaign / resultado da campanha de marketing anterior\n",
    "* **y:** has the client subscribed a term deposit? / o cliente subscreveu um depósito a prazo?"
   ]
  },
  {
   "cell_type": "markdown",
   "metadata": {},
   "source": [
    "Portanto, 'y' é a nossa variável target. Agora, vamos checar os tipos de dados das variáveis de cada dataset."
   ]
  },
  {
   "cell_type": "code",
   "execution_count": 8,
   "metadata": {},
   "outputs": [
    {
     "name": "stdout",
     "output_type": "stream",
     "text": [
      "<class 'pandas.core.frame.DataFrame'>\n",
      "RangeIndex: 45211 entries, 0 to 45210\n",
      "Data columns (total 15 columns):\n",
      " #   Column     Non-Null Count  Dtype \n",
      "---  ------     --------------  ----- \n",
      " 0   age        45211 non-null  int64 \n",
      " 1   job        45211 non-null  object\n",
      " 2   marital    45211 non-null  object\n",
      " 3   education  45211 non-null  object\n",
      " 4   default    45211 non-null  object\n",
      " 5   balance    45211 non-null  int64 \n",
      " 6   housing    45211 non-null  object\n",
      " 7   loan       45211 non-null  object\n",
      " 8   contact    45211 non-null  object\n",
      " 9   duration   45211 non-null  int64 \n",
      " 10  campaign   45211 non-null  int64 \n",
      " 11  pdays      45211 non-null  int64 \n",
      " 12  previous   45211 non-null  int64 \n",
      " 13  poutcome   45211 non-null  object\n",
      " 14  y          45211 non-null  object\n",
      "dtypes: int64(6), object(9)\n",
      "memory usage: 5.2+ MB\n"
     ]
    }
   ],
   "source": [
    "# Info sobre as variáveis do df_train\n",
    "df_train.info() "
   ]
  },
  {
   "cell_type": "code",
   "execution_count": 9,
   "metadata": {
    "scrolled": false
   },
   "outputs": [
    {
     "name": "stdout",
     "output_type": "stream",
     "text": [
      "<class 'pandas.core.frame.DataFrame'>\n",
      "RangeIndex: 4521 entries, 0 to 4520\n",
      "Data columns (total 15 columns):\n",
      " #   Column     Non-Null Count  Dtype \n",
      "---  ------     --------------  ----- \n",
      " 0   age        4521 non-null   int64 \n",
      " 1   job        4521 non-null   object\n",
      " 2   marital    4521 non-null   object\n",
      " 3   education  4521 non-null   object\n",
      " 4   default    4521 non-null   object\n",
      " 5   balance    4521 non-null   int64 \n",
      " 6   housing    4521 non-null   object\n",
      " 7   loan       4521 non-null   object\n",
      " 8   contact    4521 non-null   object\n",
      " 9   duration   4521 non-null   int64 \n",
      " 10  campaign   4521 non-null   int64 \n",
      " 11  pdays      4521 non-null   int64 \n",
      " 12  previous   4521 non-null   int64 \n",
      " 13  poutcome   4521 non-null   object\n",
      " 14  y          4521 non-null   object\n",
      "dtypes: int64(6), object(9)\n",
      "memory usage: 529.9+ KB\n"
     ]
    }
   ],
   "source": [
    "# Info sobre as variáveis do df_test\n",
    "df_test.info()"
   ]
  },
  {
   "cell_type": "markdown",
   "metadata": {},
   "source": [
    "Os dois dataframe têm o mesmo tipo de dados e pode-se notar que não existe dados nulos. Além disso, tem-se variáveis numéricas e categoricas."
   ]
  },
  {
   "cell_type": "code",
   "execution_count": 10,
   "metadata": {
    "scrolled": true
   },
   "outputs": [
    {
     "data": {
      "text/html": [
       "<div>\n",
       "<style scoped>\n",
       "    .dataframe tbody tr th:only-of-type {\n",
       "        vertical-align: middle;\n",
       "    }\n",
       "\n",
       "    .dataframe tbody tr th {\n",
       "        vertical-align: top;\n",
       "    }\n",
       "\n",
       "    .dataframe thead th {\n",
       "        text-align: right;\n",
       "    }\n",
       "</style>\n",
       "<table border=\"1\" class=\"dataframe\">\n",
       "  <thead>\n",
       "    <tr style=\"text-align: right;\">\n",
       "      <th></th>\n",
       "      <th>age</th>\n",
       "      <th>job</th>\n",
       "      <th>marital</th>\n",
       "      <th>education</th>\n",
       "      <th>default</th>\n",
       "      <th>balance</th>\n",
       "      <th>housing</th>\n",
       "      <th>loan</th>\n",
       "      <th>contact</th>\n",
       "      <th>duration</th>\n",
       "      <th>campaign</th>\n",
       "      <th>pdays</th>\n",
       "      <th>previous</th>\n",
       "      <th>poutcome</th>\n",
       "      <th>y</th>\n",
       "    </tr>\n",
       "  </thead>\n",
       "  <tbody>\n",
       "    <tr>\n",
       "      <th>0</th>\n",
       "      <td>58</td>\n",
       "      <td>management</td>\n",
       "      <td>married</td>\n",
       "      <td>tertiary</td>\n",
       "      <td>no</td>\n",
       "      <td>2143</td>\n",
       "      <td>yes</td>\n",
       "      <td>no</td>\n",
       "      <td>unknown</td>\n",
       "      <td>261</td>\n",
       "      <td>1</td>\n",
       "      <td>-1</td>\n",
       "      <td>0</td>\n",
       "      <td>unknown</td>\n",
       "      <td>no</td>\n",
       "    </tr>\n",
       "    <tr>\n",
       "      <th>1</th>\n",
       "      <td>44</td>\n",
       "      <td>technician</td>\n",
       "      <td>single</td>\n",
       "      <td>secondary</td>\n",
       "      <td>no</td>\n",
       "      <td>29</td>\n",
       "      <td>yes</td>\n",
       "      <td>no</td>\n",
       "      <td>unknown</td>\n",
       "      <td>151</td>\n",
       "      <td>1</td>\n",
       "      <td>-1</td>\n",
       "      <td>0</td>\n",
       "      <td>unknown</td>\n",
       "      <td>no</td>\n",
       "    </tr>\n",
       "    <tr>\n",
       "      <th>2</th>\n",
       "      <td>33</td>\n",
       "      <td>entrepreneur</td>\n",
       "      <td>married</td>\n",
       "      <td>secondary</td>\n",
       "      <td>no</td>\n",
       "      <td>2</td>\n",
       "      <td>yes</td>\n",
       "      <td>yes</td>\n",
       "      <td>unknown</td>\n",
       "      <td>76</td>\n",
       "      <td>1</td>\n",
       "      <td>-1</td>\n",
       "      <td>0</td>\n",
       "      <td>unknown</td>\n",
       "      <td>no</td>\n",
       "    </tr>\n",
       "    <tr>\n",
       "      <th>3</th>\n",
       "      <td>47</td>\n",
       "      <td>blue-collar</td>\n",
       "      <td>married</td>\n",
       "      <td>unknown</td>\n",
       "      <td>no</td>\n",
       "      <td>1506</td>\n",
       "      <td>yes</td>\n",
       "      <td>no</td>\n",
       "      <td>unknown</td>\n",
       "      <td>92</td>\n",
       "      <td>1</td>\n",
       "      <td>-1</td>\n",
       "      <td>0</td>\n",
       "      <td>unknown</td>\n",
       "      <td>no</td>\n",
       "    </tr>\n",
       "    <tr>\n",
       "      <th>4</th>\n",
       "      <td>33</td>\n",
       "      <td>unknown</td>\n",
       "      <td>single</td>\n",
       "      <td>unknown</td>\n",
       "      <td>no</td>\n",
       "      <td>1</td>\n",
       "      <td>no</td>\n",
       "      <td>no</td>\n",
       "      <td>unknown</td>\n",
       "      <td>198</td>\n",
       "      <td>1</td>\n",
       "      <td>-1</td>\n",
       "      <td>0</td>\n",
       "      <td>unknown</td>\n",
       "      <td>no</td>\n",
       "    </tr>\n",
       "  </tbody>\n",
       "</table>\n",
       "</div>"
      ],
      "text/plain": [
       "   age           job  marital  education default  balance housing loan  \\\n",
       "0   58    management  married   tertiary      no     2143     yes   no   \n",
       "1   44    technician   single  secondary      no       29     yes   no   \n",
       "2   33  entrepreneur  married  secondary      no        2     yes  yes   \n",
       "3   47   blue-collar  married    unknown      no     1506     yes   no   \n",
       "4   33       unknown   single    unknown      no        1      no   no   \n",
       "\n",
       "   contact  duration  campaign  pdays  previous poutcome   y  \n",
       "0  unknown       261         1     -1         0  unknown  no  \n",
       "1  unknown       151         1     -1         0  unknown  no  \n",
       "2  unknown        76         1     -1         0  unknown  no  \n",
       "3  unknown        92         1     -1         0  unknown  no  \n",
       "4  unknown       198         1     -1         0  unknown  no  "
      ]
     },
     "execution_count": 10,
     "metadata": {},
     "output_type": "execute_result"
    }
   ],
   "source": [
    "#Vendo as 5 primeiras linhas do dataframe train\n",
    "df_train.head() "
   ]
  },
  {
   "cell_type": "code",
   "execution_count": 11,
   "metadata": {
    "scrolled": true
   },
   "outputs": [
    {
     "data": {
      "text/html": [
       "<div>\n",
       "<style scoped>\n",
       "    .dataframe tbody tr th:only-of-type {\n",
       "        vertical-align: middle;\n",
       "    }\n",
       "\n",
       "    .dataframe tbody tr th {\n",
       "        vertical-align: top;\n",
       "    }\n",
       "\n",
       "    .dataframe thead th {\n",
       "        text-align: right;\n",
       "    }\n",
       "</style>\n",
       "<table border=\"1\" class=\"dataframe\">\n",
       "  <thead>\n",
       "    <tr style=\"text-align: right;\">\n",
       "      <th></th>\n",
       "      <th>age</th>\n",
       "      <th>job</th>\n",
       "      <th>marital</th>\n",
       "      <th>education</th>\n",
       "      <th>default</th>\n",
       "      <th>balance</th>\n",
       "      <th>housing</th>\n",
       "      <th>loan</th>\n",
       "      <th>contact</th>\n",
       "      <th>duration</th>\n",
       "      <th>campaign</th>\n",
       "      <th>pdays</th>\n",
       "      <th>previous</th>\n",
       "      <th>poutcome</th>\n",
       "      <th>y</th>\n",
       "    </tr>\n",
       "  </thead>\n",
       "  <tbody>\n",
       "    <tr>\n",
       "      <th>0</th>\n",
       "      <td>30</td>\n",
       "      <td>unemployed</td>\n",
       "      <td>married</td>\n",
       "      <td>primary</td>\n",
       "      <td>no</td>\n",
       "      <td>1787</td>\n",
       "      <td>no</td>\n",
       "      <td>no</td>\n",
       "      <td>cellular</td>\n",
       "      <td>79</td>\n",
       "      <td>1</td>\n",
       "      <td>-1</td>\n",
       "      <td>0</td>\n",
       "      <td>unknown</td>\n",
       "      <td>no</td>\n",
       "    </tr>\n",
       "    <tr>\n",
       "      <th>1</th>\n",
       "      <td>33</td>\n",
       "      <td>services</td>\n",
       "      <td>married</td>\n",
       "      <td>secondary</td>\n",
       "      <td>no</td>\n",
       "      <td>4789</td>\n",
       "      <td>yes</td>\n",
       "      <td>yes</td>\n",
       "      <td>cellular</td>\n",
       "      <td>220</td>\n",
       "      <td>1</td>\n",
       "      <td>339</td>\n",
       "      <td>4</td>\n",
       "      <td>failure</td>\n",
       "      <td>no</td>\n",
       "    </tr>\n",
       "    <tr>\n",
       "      <th>2</th>\n",
       "      <td>35</td>\n",
       "      <td>management</td>\n",
       "      <td>single</td>\n",
       "      <td>tertiary</td>\n",
       "      <td>no</td>\n",
       "      <td>1350</td>\n",
       "      <td>yes</td>\n",
       "      <td>no</td>\n",
       "      <td>cellular</td>\n",
       "      <td>185</td>\n",
       "      <td>1</td>\n",
       "      <td>330</td>\n",
       "      <td>1</td>\n",
       "      <td>failure</td>\n",
       "      <td>no</td>\n",
       "    </tr>\n",
       "    <tr>\n",
       "      <th>3</th>\n",
       "      <td>30</td>\n",
       "      <td>management</td>\n",
       "      <td>married</td>\n",
       "      <td>tertiary</td>\n",
       "      <td>no</td>\n",
       "      <td>1476</td>\n",
       "      <td>yes</td>\n",
       "      <td>yes</td>\n",
       "      <td>unknown</td>\n",
       "      <td>199</td>\n",
       "      <td>4</td>\n",
       "      <td>-1</td>\n",
       "      <td>0</td>\n",
       "      <td>unknown</td>\n",
       "      <td>no</td>\n",
       "    </tr>\n",
       "    <tr>\n",
       "      <th>4</th>\n",
       "      <td>59</td>\n",
       "      <td>blue-collar</td>\n",
       "      <td>married</td>\n",
       "      <td>secondary</td>\n",
       "      <td>no</td>\n",
       "      <td>0</td>\n",
       "      <td>yes</td>\n",
       "      <td>no</td>\n",
       "      <td>unknown</td>\n",
       "      <td>226</td>\n",
       "      <td>1</td>\n",
       "      <td>-1</td>\n",
       "      <td>0</td>\n",
       "      <td>unknown</td>\n",
       "      <td>no</td>\n",
       "    </tr>\n",
       "  </tbody>\n",
       "</table>\n",
       "</div>"
      ],
      "text/plain": [
       "   age          job  marital  education default  balance housing loan  \\\n",
       "0   30   unemployed  married    primary      no     1787      no   no   \n",
       "1   33     services  married  secondary      no     4789     yes  yes   \n",
       "2   35   management   single   tertiary      no     1350     yes   no   \n",
       "3   30   management  married   tertiary      no     1476     yes  yes   \n",
       "4   59  blue-collar  married  secondary      no        0     yes   no   \n",
       "\n",
       "    contact  duration  campaign  pdays  previous poutcome   y  \n",
       "0  cellular        79         1     -1         0  unknown  no  \n",
       "1  cellular       220         1    339         4  failure  no  \n",
       "2  cellular       185         1    330         1  failure  no  \n",
       "3   unknown       199         4     -1         0  unknown  no  \n",
       "4   unknown       226         1     -1         0  unknown  no  "
      ]
     },
     "execution_count": 11,
     "metadata": {},
     "output_type": "execute_result"
    }
   ],
   "source": [
    "#vendo as 5 primeiras linhas do dataframe test\n",
    "df_test.head() "
   ]
  },
  {
   "cell_type": "code",
   "execution_count": 12,
   "metadata": {
    "scrolled": true
   },
   "outputs": [
    {
     "data": {
      "text/plain": [
       "age          0\n",
       "job          0\n",
       "marital      0\n",
       "education    0\n",
       "default      0\n",
       "balance      0\n",
       "housing      0\n",
       "loan         0\n",
       "contact      0\n",
       "duration     0\n",
       "campaign     0\n",
       "pdays        0\n",
       "previous     0\n",
       "poutcome     0\n",
       "y            0\n",
       "dtype: int64"
      ]
     },
     "execution_count": 12,
     "metadata": {},
     "output_type": "execute_result"
    }
   ],
   "source": [
    "# Conferindo a existência de dados nulos no df_train\n",
    "df_train.isnull().sum()"
   ]
  },
  {
   "cell_type": "code",
   "execution_count": 13,
   "metadata": {
    "scrolled": false
   },
   "outputs": [
    {
     "data": {
      "text/plain": [
       "age          0\n",
       "job          0\n",
       "marital      0\n",
       "education    0\n",
       "default      0\n",
       "balance      0\n",
       "housing      0\n",
       "loan         0\n",
       "contact      0\n",
       "duration     0\n",
       "campaign     0\n",
       "pdays        0\n",
       "previous     0\n",
       "poutcome     0\n",
       "y            0\n",
       "dtype: int64"
      ]
     },
     "execution_count": 13,
     "metadata": {},
     "output_type": "execute_result"
    }
   ],
   "source": [
    "# Conferindo a existência de dados nulos no df_test\n",
    "df_test.isnull().sum()"
   ]
  },
  {
   "cell_type": "code",
   "execution_count": 14,
   "metadata": {
    "scrolled": false
   },
   "outputs": [
    {
     "name": "stdout",
     "output_type": "stream",
     "text": [
      "age: 77 unique values\n",
      "job\n",
      "['management' 'technician' 'entrepreneur' 'blue-collar' 'unknown'\n",
      " 'retired' 'admin.' 'services' 'self-employed' 'unemployed' 'housemaid'\n",
      " 'student']\n",
      "marital\n",
      "['married' 'single' 'divorced']\n",
      "education\n",
      "['tertiary' 'secondary' 'unknown' 'primary']\n",
      "default\n",
      "['no' 'yes']\n",
      "balance: 7168 unique values\n",
      "housing\n",
      "['yes' 'no']\n",
      "loan\n",
      "['no' 'yes']\n",
      "contact\n",
      "['unknown' 'cellular' 'telephone']\n",
      "duration: 1573 unique values\n",
      "campaign: 48 unique values\n",
      "pdays: 559 unique values\n",
      "previous: 41 unique values\n",
      "poutcome\n",
      "['unknown' 'failure' 'other' 'success']\n",
      "y\n",
      "['no' 'yes']\n"
     ]
    }
   ],
   "source": [
    "# Obtenção dos atributos de cada coluna do dataframe.\n",
    "for a in list(df_train.columns):\n",
    "    \n",
    "    # Lista de valores únicos\n",
    "    n = df_train[a].unique()\n",
    "    \n",
    "    # Se o número de valores únicos for < 30, print a coluna e os atributos. senão print o número de valores únicos\n",
    "    if len(n)<30:\n",
    "        print(a)\n",
    "        print(n)\n",
    "    else:\n",
    "        print(a + ': ' +str(len(n)) + ' unique values')"
   ]
  },
  {
   "cell_type": "markdown",
   "metadata": {},
   "source": [
    "**Observações:**\n",
    "\n",
    "- Tem-se 9 variáveis categoricas (job, marital, education, contact, poutcome, y, loan, default, housing) e 6 numéricas (age, duration, campaign, pdays, previous, balance).\n",
    "\n",
    "- Tem-se 4 variáveis binárias no dataset: default, housing, loan, y.\n"
   ]
  },
  {
   "cell_type": "markdown",
   "metadata": {},
   "source": [
    "## Análise exploratória inicial"
   ]
  },
  {
   "cell_type": "code",
   "execution_count": 15,
   "metadata": {
    "scrolled": true
   },
   "outputs": [
    {
     "data": {
      "text/plain": [
       "y\n",
       "no     39922\n",
       "yes     5289\n",
       "dtype: int64"
      ]
     },
     "execution_count": 15,
     "metadata": {},
     "output_type": "execute_result"
    }
   ],
   "source": [
    "# Contando o número de pessoas que subscreveu ou não\n",
    "df_train.groupby('y').size()"
   ]
  },
  {
   "cell_type": "code",
   "execution_count": 121,
   "metadata": {},
   "outputs": [
    {
     "data": {
      "image/png": "[encoded data removed]",
      "text/plain": [
       "<Figure size 864x432 with 1 Axes>"
      ]
     },
     "metadata": {
      "needs_background": "light"
     },
     "output_type": "display_data"
    }
   ],
   "source": [
    "import seaborn as sns\n",
    "import matplotlib.pyplot as plt\n",
    "fig, ax = plt.subplots()\n",
    "fig.set_size_inches(12, 6)\n",
    "sns.countplot(data=df_train, x='y')\n",
    "ax.set_xlabel('Subscrição', fontsize=10)\n",
    "ax.set_ylabel('Contagem', fontsize=10)\n",
    "ax.set_title('Número de subscrições', fontsize=15)\n",
    "ax.tick_params(labelsize=10)\n",
    "sns.despine()"
   ]
  },
  {
   "cell_type": "code",
   "execution_count": 17,
   "metadata": {},
   "outputs": [
    {
     "data": {
      "text/plain": [
       "no     0.883015\n",
       "yes    0.116985\n",
       "Name: y, dtype: float64"
      ]
     },
     "execution_count": 17,
     "metadata": {},
     "output_type": "execute_result"
    }
   ],
   "source": [
    "# Vendo em porcentagem\n",
    "df_train['y'].value_counts(normalize = True)"
   ]
  },
  {
   "cell_type": "markdown",
   "metadata": {},
   "source": [
    "Analisando o resultado acima, percebe-se que só cerca de 12% do total subscreveram ao depósito a prazo.\n",
    "\n",
    "Pode-se observar também que temos no nosso dataset muito mais informações de pessoas que não subscreveram ao depósito a prazo. Esse desequilíbrio deve ser tratado antes da criação do modelo caso contrário o modelo será tendencioso."
   ]
  },
  {
   "cell_type": "code",
   "execution_count": 18,
   "metadata": {
    "scrolled": true
   },
   "outputs": [
    {
     "data": {
      "text/plain": [
       "blue-collar      0.22\n",
       "management       0.21\n",
       "technician       0.17\n",
       "admin.           0.11\n",
       "services         0.09\n",
       "retired          0.05\n",
       "self-employed    0.03\n",
       "entrepreneur     0.03\n",
       "unemployed       0.03\n",
       "housemaid        0.03\n",
       "student          0.02\n",
       "unknown          0.01\n",
       "Name: job, dtype: float64"
      ]
     },
     "execution_count": 18,
     "metadata": {},
     "output_type": "execute_result"
    }
   ],
   "source": [
    "# Vamos dar uma olhada nas estatistícas relacionadas à variável 'job' \n",
    "df_train['job'].value_counts(normalize = True).round(2)"
   ]
  },
  {
   "cell_type": "code",
   "execution_count": 123,
   "metadata": {
    "scrolled": false
   },
   "outputs": [
    {
     "data": {
      "image/png": "[encoded data removed]",
      "text/plain": [
       "<Figure size 432x432 with 1 Axes>"
      ]
     },
     "metadata": {
      "needs_background": "light"
     },
     "output_type": "display_data"
    }
   ],
   "source": [
    "# Plotando o gráfico dos tipos de profissão para melhor visualização\n",
    "fig, ax = plt.subplots()\n",
    "fig.set_size_inches(6, 6)\n",
    "df_train['job'].value_counts().plot(kind = 'bar')\n",
    "ax.set_ylabel('Contagem', fontsize=10)\n",
    "ax.set_title('Profissões do conjunto de dados', fontsize=15)\n",
    "ax.tick_params(labelsize=10)"
   ]
  },
  {
   "cell_type": "code",
   "execution_count": 20,
   "metadata": {},
   "outputs": [
    {
     "data": {
      "text/html": [
       "<div>\n",
       "<style scoped>\n",
       "    .dataframe tbody tr th:only-of-type {\n",
       "        vertical-align: middle;\n",
       "    }\n",
       "\n",
       "    .dataframe tbody tr th {\n",
       "        vertical-align: top;\n",
       "    }\n",
       "\n",
       "    .dataframe thead th {\n",
       "        text-align: right;\n",
       "    }\n",
       "</style>\n",
       "<table border=\"1\" class=\"dataframe\">\n",
       "  <thead>\n",
       "    <tr style=\"text-align: right;\">\n",
       "      <th>y</th>\n",
       "      <th>no</th>\n",
       "      <th>yes</th>\n",
       "    </tr>\n",
       "    <tr>\n",
       "      <th>job</th>\n",
       "      <th></th>\n",
       "      <th></th>\n",
       "    </tr>\n",
       "  </thead>\n",
       "  <tbody>\n",
       "    <tr>\n",
       "      <th>admin.</th>\n",
       "      <td>0.88</td>\n",
       "      <td>0.12</td>\n",
       "    </tr>\n",
       "    <tr>\n",
       "      <th>blue-collar</th>\n",
       "      <td>0.93</td>\n",
       "      <td>0.07</td>\n",
       "    </tr>\n",
       "    <tr>\n",
       "      <th>entrepreneur</th>\n",
       "      <td>0.92</td>\n",
       "      <td>0.08</td>\n",
       "    </tr>\n",
       "    <tr>\n",
       "      <th>housemaid</th>\n",
       "      <td>0.91</td>\n",
       "      <td>0.09</td>\n",
       "    </tr>\n",
       "    <tr>\n",
       "      <th>management</th>\n",
       "      <td>0.86</td>\n",
       "      <td>0.14</td>\n",
       "    </tr>\n",
       "    <tr>\n",
       "      <th>retired</th>\n",
       "      <td>0.77</td>\n",
       "      <td>0.23</td>\n",
       "    </tr>\n",
       "    <tr>\n",
       "      <th>self-employed</th>\n",
       "      <td>0.88</td>\n",
       "      <td>0.12</td>\n",
       "    </tr>\n",
       "    <tr>\n",
       "      <th>services</th>\n",
       "      <td>0.91</td>\n",
       "      <td>0.09</td>\n",
       "    </tr>\n",
       "    <tr>\n",
       "      <th>student</th>\n",
       "      <td>0.71</td>\n",
       "      <td>0.29</td>\n",
       "    </tr>\n",
       "    <tr>\n",
       "      <th>technician</th>\n",
       "      <td>0.89</td>\n",
       "      <td>0.11</td>\n",
       "    </tr>\n",
       "    <tr>\n",
       "      <th>unemployed</th>\n",
       "      <td>0.84</td>\n",
       "      <td>0.16</td>\n",
       "    </tr>\n",
       "    <tr>\n",
       "      <th>unknown</th>\n",
       "      <td>0.88</td>\n",
       "      <td>0.12</td>\n",
       "    </tr>\n",
       "  </tbody>\n",
       "</table>\n",
       "</div>"
      ],
      "text/plain": [
       "y                no   yes\n",
       "job                      \n",
       "admin.         0.88  0.12\n",
       "blue-collar    0.93  0.07\n",
       "entrepreneur   0.92  0.08\n",
       "housemaid      0.91  0.09\n",
       "management     0.86  0.14\n",
       "retired        0.77  0.23\n",
       "self-employed  0.88  0.12\n",
       "services       0.91  0.09\n",
       "student        0.71  0.29\n",
       "technician     0.89  0.11\n",
       "unemployed     0.84  0.16\n",
       "unknown        0.88  0.12"
      ]
     },
     "execution_count": 20,
     "metadata": {},
     "output_type": "execute_result"
    }
   ],
   "source": [
    "# Situação da subscrição por profissão\n",
    "job_y = pd.crosstab(df_train['job'],df_train['y'])\n",
    "job_y_norm = job_y.div(job_y.sum(1).astype(float), axis=0)\n",
    "# Porcentagens da relação subscrição-profissão\n",
    "job_y_norm.round(2)"
   ]
  },
  {
   "cell_type": "code",
   "execution_count": 127,
   "metadata": {
    "scrolled": false
   },
   "outputs": [
    {
     "data": {
      "text/plain": [
       "<AxesSubplot:xlabel='job'>"
      ]
     },
     "execution_count": 127,
     "metadata": {},
     "output_type": "execute_result"
    },
    {
     "data": {
      "image/png": "[encoded data removed]",
      "text/plain": [
       "<Figure size 576x432 with 1 Axes>"
      ]
     },
     "metadata": {
      "needs_background": "light"
     },
     "output_type": "display_data"
    }
   ],
   "source": [
    "# Gráfico da relação subscrição-profissão\n",
    "job_y_norm.plot.bar(stacked=True,figsize=(8,6))"
   ]
  },
  {
   "cell_type": "markdown",
   "metadata": {},
   "source": [
    "Percebe-se que os estudantes e os aposentados são as pessoas que mais subscreveram ao depósito a prazo em termos de proporção. Assim, estes são mais propensos a fazer um depósito a prazo."
   ]
  },
  {
   "cell_type": "code",
   "execution_count": 22,
   "metadata": {
    "scrolled": true
   },
   "outputs": [
    {
     "data": {
      "text/plain": [
       "married     27214\n",
       "single      12790\n",
       "divorced     5207\n",
       "Name: marital, dtype: int64"
      ]
     },
     "execution_count": 22,
     "metadata": {},
     "output_type": "execute_result"
    }
   ],
   "source": [
    "# Estado civil das pessoas\n",
    "df_train['marital'].value_counts()"
   ]
  },
  {
   "cell_type": "code",
   "execution_count": 130,
   "metadata": {},
   "outputs": [
    {
     "data": {
      "image/png": "[encoded data removed]",
      "text/plain": [
       "<Figure size 432x432 with 1 Axes>"
      ]
     },
     "metadata": {
      "needs_background": "light"
     },
     "output_type": "display_data"
    }
   ],
   "source": [
    "fig, ax = plt.subplots()\n",
    "fig.set_size_inches(6, 6)\n",
    "sns.countplot(data=df_train, x='marital')\n",
    "ax.set_ylabel('Contagem', fontsize=10)\n",
    "ax.set_xlabel('Situação', fontsize=10)\n",
    "ax.set_title('Estado civil', fontsize=15)\n",
    "ax.tick_params(labelsize=10)"
   ]
  },
  {
   "cell_type": "code",
   "execution_count": 131,
   "metadata": {
    "scrolled": false
   },
   "outputs": [
    {
     "data": {
      "text/plain": [
       "Text(0.5, 1.0, 'Estado civil vs Subscrições')"
      ]
     },
     "execution_count": 131,
     "metadata": {},
     "output_type": "execute_result"
    },
    {
     "data": {
      "image/png": "[encoded data removed]",
      "text/plain": [
       "<Figure size 432x432 with 1 Axes>"
      ]
     },
     "metadata": {
      "needs_background": "light"
     },
     "output_type": "display_data"
    }
   ],
   "source": [
    "# Situação da subscrição por estado civil\n",
    "fig, ax = plt.subplots()\n",
    "fig.set_size_inches(6, 6)\n",
    "sns.countplot(data=df_train, x='marital', hue='y')\n",
    "ax.set_ylabel('Contagem', fontsize=10)\n",
    "ax.set_xlabel('Situação', fontsize=10)\n",
    "ax.set_title('Estado civil vs Subscrições', fontsize=15)"
   ]
  },
  {
   "cell_type": "code",
   "execution_count": 25,
   "metadata": {
    "scrolled": true
   },
   "outputs": [
    {
     "data": {
      "text/html": [
       "<div>\n",
       "<style scoped>\n",
       "    .dataframe tbody tr th:only-of-type {\n",
       "        vertical-align: middle;\n",
       "    }\n",
       "\n",
       "    .dataframe tbody tr th {\n",
       "        vertical-align: top;\n",
       "    }\n",
       "\n",
       "    .dataframe thead th {\n",
       "        text-align: right;\n",
       "    }\n",
       "</style>\n",
       "<table border=\"1\" class=\"dataframe\">\n",
       "  <thead>\n",
       "    <tr style=\"text-align: right;\">\n",
       "      <th>y</th>\n",
       "      <th>no</th>\n",
       "      <th>yes</th>\n",
       "    </tr>\n",
       "    <tr>\n",
       "      <th>marital</th>\n",
       "      <th></th>\n",
       "      <th></th>\n",
       "    </tr>\n",
       "  </thead>\n",
       "  <tbody>\n",
       "    <tr>\n",
       "      <th>divorced</th>\n",
       "      <td>4585</td>\n",
       "      <td>622</td>\n",
       "    </tr>\n",
       "    <tr>\n",
       "      <th>married</th>\n",
       "      <td>24459</td>\n",
       "      <td>2755</td>\n",
       "    </tr>\n",
       "    <tr>\n",
       "      <th>single</th>\n",
       "      <td>10878</td>\n",
       "      <td>1912</td>\n",
       "    </tr>\n",
       "  </tbody>\n",
       "</table>\n",
       "</div>"
      ],
      "text/plain": [
       "y            no   yes\n",
       "marital              \n",
       "divorced   4585   622\n",
       "married   24459  2755\n",
       "single    10878  1912"
      ]
     },
     "execution_count": 25,
     "metadata": {},
     "output_type": "execute_result"
    }
   ],
   "source": [
    "pd.crosstab(df_train['marital'], df_train['y'])"
   ]
  },
  {
   "cell_type": "code",
   "execution_count": 26,
   "metadata": {
    "scrolled": true
   },
   "outputs": [
    {
     "data": {
      "text/html": [
       "<div>\n",
       "<style scoped>\n",
       "    .dataframe tbody tr th:only-of-type {\n",
       "        vertical-align: middle;\n",
       "    }\n",
       "\n",
       "    .dataframe tbody tr th {\n",
       "        vertical-align: top;\n",
       "    }\n",
       "\n",
       "    .dataframe thead th {\n",
       "        text-align: right;\n",
       "    }\n",
       "</style>\n",
       "<table border=\"1\" class=\"dataframe\">\n",
       "  <thead>\n",
       "    <tr style=\"text-align: right;\">\n",
       "      <th>y</th>\n",
       "      <th>no</th>\n",
       "      <th>yes</th>\n",
       "    </tr>\n",
       "    <tr>\n",
       "      <th>marital</th>\n",
       "      <th></th>\n",
       "      <th></th>\n",
       "    </tr>\n",
       "  </thead>\n",
       "  <tbody>\n",
       "    <tr>\n",
       "      <th>divorced</th>\n",
       "      <td>0.88</td>\n",
       "      <td>0.12</td>\n",
       "    </tr>\n",
       "    <tr>\n",
       "      <th>married</th>\n",
       "      <td>0.90</td>\n",
       "      <td>0.10</td>\n",
       "    </tr>\n",
       "    <tr>\n",
       "      <th>single</th>\n",
       "      <td>0.85</td>\n",
       "      <td>0.15</td>\n",
       "    </tr>\n",
       "  </tbody>\n",
       "</table>\n",
       "</div>"
      ],
      "text/plain": [
       "y           no   yes\n",
       "marital             \n",
       "divorced  0.88  0.12\n",
       "married   0.90  0.10\n",
       "single    0.85  0.15"
      ]
     },
     "execution_count": 26,
     "metadata": {},
     "output_type": "execute_result"
    }
   ],
   "source": [
    "marital = pd.crosstab(df_train['marital'], df_train['y'])\n",
    "marital_norm = marital.div(marital.sum(1).astype(float), axis=0)\n",
    "marital_norm.round(2)"
   ]
  },
  {
   "cell_type": "markdown",
   "metadata": {},
   "source": [
    "Diante desse resultado, pode-se afirmar que o estado civil não tem influência no depósito a prazo."
   ]
  },
  {
   "cell_type": "code",
   "execution_count": 27,
   "metadata": {
    "scrolled": false
   },
   "outputs": [
    {
     "data": {
      "text/plain": [
       "<seaborn.axisgrid.FacetGrid at 0x20b8cf5f130>"
      ]
     },
     "execution_count": 27,
     "metadata": {},
     "output_type": "execute_result"
    },
    {
     "data": {
      "image/png": "[encoded data removed]",
      "text/plain": [
       "<Figure size 360x360 with 1 Axes>"
      ]
     },
     "metadata": {
      "needs_background": "light"
     },
     "output_type": "display_data"
    }
   ],
   "source": [
    "# Analisando as faixas etárias\n",
    "sns.displot(df_train['age'])"
   ]
  },
  {
   "cell_type": "markdown",
   "metadata": {},
   "source": [
    "A maior parte dos clientes estão na faixa de idade de 25-60."
   ]
  },
  {
   "cell_type": "code",
   "execution_count": 28,
   "metadata": {},
   "outputs": [
    {
     "data": {
      "text/html": [
       "<div>\n",
       "<style scoped>\n",
       "    .dataframe tbody tr th:only-of-type {\n",
       "        vertical-align: middle;\n",
       "    }\n",
       "\n",
       "    .dataframe tbody tr th {\n",
       "        vertical-align: top;\n",
       "    }\n",
       "\n",
       "    .dataframe thead th {\n",
       "        text-align: right;\n",
       "    }\n",
       "</style>\n",
       "<table border=\"1\" class=\"dataframe\">\n",
       "  <thead>\n",
       "    <tr style=\"text-align: right;\">\n",
       "      <th>y</th>\n",
       "      <th>no</th>\n",
       "      <th>yes</th>\n",
       "    </tr>\n",
       "    <tr>\n",
       "      <th>default</th>\n",
       "      <th></th>\n",
       "      <th></th>\n",
       "    </tr>\n",
       "  </thead>\n",
       "  <tbody>\n",
       "    <tr>\n",
       "      <th>no</th>\n",
       "      <td>39159</td>\n",
       "      <td>5237</td>\n",
       "    </tr>\n",
       "    <tr>\n",
       "      <th>yes</th>\n",
       "      <td>763</td>\n",
       "      <td>52</td>\n",
       "    </tr>\n",
       "  </tbody>\n",
       "</table>\n",
       "</div>"
      ],
      "text/plain": [
       "y           no   yes\n",
       "default             \n",
       "no       39159  5237\n",
       "yes        763    52"
      ]
     },
     "execution_count": 28,
     "metadata": {},
     "output_type": "execute_result"
    }
   ],
   "source": [
    "# Vamos ver a influência da inadimplência na subscrição ao depósito a prazo.\n",
    "pd.crosstab(df_train['default'], df_train['y'])"
   ]
  },
  {
   "cell_type": "code",
   "execution_count": 137,
   "metadata": {},
   "outputs": [
    {
     "data": {
      "text/plain": [
       "Text(0.5, 1.0, 'Crédito em inadimplência')"
      ]
     },
     "execution_count": 137,
     "metadata": {},
     "output_type": "execute_result"
    },
    {
     "data": {
      "image/png": "[encoded data removed]",
      "text/plain": [
       "<Figure size 432x432 with 1 Axes>"
      ]
     },
     "metadata": {
      "needs_background": "light"
     },
     "output_type": "display_data"
    }
   ],
   "source": [
    "fig, ax = plt.subplots()\n",
    "fig.set_size_inches(6, 6)\n",
    "sns.countplot(data = df_train, x = 'default')\n",
    "ax.set_ylabel('Contagem', fontsize=10)\n",
    "ax.set_xlabel('Inadimplente', fontsize=10)\n",
    "ax.set_title('Crédito em inadimplência', fontsize=15)"
   ]
  },
  {
   "cell_type": "code",
   "execution_count": 135,
   "metadata": {},
   "outputs": [
    {
     "data": {
      "text/html": [
       "<div>\n",
       "<style scoped>\n",
       "    .dataframe tbody tr th:only-of-type {\n",
       "        vertical-align: middle;\n",
       "    }\n",
       "\n",
       "    .dataframe tbody tr th {\n",
       "        vertical-align: top;\n",
       "    }\n",
       "\n",
       "    .dataframe thead th {\n",
       "        text-align: right;\n",
       "    }\n",
       "</style>\n",
       "<table border=\"1\" class=\"dataframe\">\n",
       "  <thead>\n",
       "    <tr style=\"text-align: right;\">\n",
       "      <th>Subscrição</th>\n",
       "      <th>no</th>\n",
       "      <th>yes</th>\n",
       "      <th>All</th>\n",
       "    </tr>\n",
       "    <tr>\n",
       "      <th>Inadimplencia</th>\n",
       "      <th></th>\n",
       "      <th></th>\n",
       "      <th></th>\n",
       "    </tr>\n",
       "  </thead>\n",
       "  <tbody>\n",
       "    <tr>\n",
       "      <th>no</th>\n",
       "      <td>0.44</td>\n",
       "      <td>0.06</td>\n",
       "      <td>0.5</td>\n",
       "    </tr>\n",
       "    <tr>\n",
       "      <th>yes</th>\n",
       "      <td>0.47</td>\n",
       "      <td>0.03</td>\n",
       "      <td>0.5</td>\n",
       "    </tr>\n",
       "    <tr>\n",
       "      <th>All</th>\n",
       "      <td>0.44</td>\n",
       "      <td>0.06</td>\n",
       "      <td>0.5</td>\n",
       "    </tr>\n",
       "  </tbody>\n",
       "</table>\n",
       "</div>"
      ],
      "text/plain": [
       "Subscrição       no   yes  All\n",
       "Inadimplencia                 \n",
       "no             0.44  0.06  0.5\n",
       "yes            0.47  0.03  0.5\n",
       "All            0.44  0.06  0.5"
      ]
     },
     "execution_count": 135,
     "metadata": {},
     "output_type": "execute_result"
    }
   ],
   "source": [
    "dflt_y = pd.crosstab(df_train['default'], df_train['y'], rownames=['Inadimplencia'], colnames=['Subscrição'], margins=True)\n",
    "dflt_y_norm = dflt_y.div(dflt_y.sum(1).astype(float), axis=0)\n",
    "dflt_y_norm.round(2)"
   ]
  },
  {
   "cell_type": "code",
   "execution_count": null,
   "metadata": {},
   "outputs": [],
   "source": []
  },
  {
   "cell_type": "code",
   "execution_count": 30,
   "metadata": {},
   "outputs": [
    {
     "data": {
      "text/plain": [
       "<AxesSubplot:xlabel='default'>"
      ]
     },
     "execution_count": 30,
     "metadata": {},
     "output_type": "execute_result"
    },
    {
     "data": {
      "image/png": "[encoded data removed]",
      "text/plain": [
       "<Figure size 432x432 with 1 Axes>"
      ]
     },
     "metadata": {
      "needs_background": "light"
     },
     "output_type": "display_data"
    }
   ],
   "source": [
    "dflt_y_norm.plot.bar(stacked=True, figsize=(6,6))"
   ]
  },
  {
   "cell_type": "markdown",
   "metadata": {},
   "source": [
    "Podemos dizer que os clientes sem inadimplência têm mais chances de contratar um depósito a prazo em comparação aos clientes que possuem histórico de inadimplência."
   ]
  },
  {
   "cell_type": "code",
   "execution_count": 31,
   "metadata": {
    "scrolled": false
   },
   "outputs": [
    {
     "data": {
      "text/plain": [
       "<AxesSubplot:xlabel='education', ylabel='count'>"
      ]
     },
     "execution_count": 31,
     "metadata": {},
     "output_type": "execute_result"
    },
    {
     "data": {
      "image/png": "[encoded data removed]",
      "text/plain": [
       "<Figure size 432x288 with 1 Axes>"
      ]
     },
     "metadata": {
      "needs_background": "light"
     },
     "output_type": "display_data"
    }
   ],
   "source": [
    "# Vamos explorar a variável 'education'\n",
    "sns.countplot(data=df_train, x='education')"
   ]
  },
  {
   "cell_type": "code",
   "execution_count": 32,
   "metadata": {},
   "outputs": [
    {
     "data": {
      "text/plain": [
       "<AxesSubplot:xlabel='education', ylabel='count'>"
      ]
     },
     "execution_count": 32,
     "metadata": {},
     "output_type": "execute_result"
    },
    {
     "data": {
      "image/png": "[encoded data removed]",
      "text/plain": [
       "<Figure size 432x288 with 1 Axes>"
      ]
     },
     "metadata": {
      "needs_background": "light"
     },
     "output_type": "display_data"
    }
   ],
   "source": [
    "sns.countplot(data=df_train, x='education', hue='y')"
   ]
  },
  {
   "cell_type": "code",
   "execution_count": 108,
   "metadata": {
    "scrolled": false
   },
   "outputs": [
    {
     "data": {
      "image/png": "[encoded data removed]",
      "text/plain": [
       "<Figure size 1080x432 with 1 Axes>"
      ]
     },
     "metadata": {
      "needs_background": "light"
     },
     "output_type": "display_data"
    }
   ],
   "source": [
    "# Vamos explorar a variável 'previous' (números de contatos antes da campanha de marketing)\n",
    "import matplotlib.pyplot as plt\n",
    "fig, ax = plt.subplots()\n",
    "fig.set_size_inches(15, 6)\n",
    "sns.countplot(x = 'previous', data = df_train)\n",
    "ax.set_xlabel('Nº de contatos', fontsize=10)\n",
    "ax.set_ylabel('Contagem', fontsize=10)\n",
    "ax.set_title('Número de contatos antes da campanha de marketing', fontsize=15)\n",
    "ax.tick_params(labelsize=10)\n",
    "sns.despine()"
   ]
  },
  {
   "cell_type": "code",
   "execution_count": 106,
   "metadata": {
    "scrolled": false
   },
   "outputs": [
    {
     "data": {
      "image/png": "[encoded data removed]",
      "text/plain": [
       "<Figure size 1080x432 with 1 Axes>"
      ]
     },
     "metadata": {
      "needs_background": "light"
     },
     "output_type": "display_data"
    }
   ],
   "source": [
    "# Vamos explorar a variável 'poutcome' (resultado da campanha de marketing anterior).\n",
    "fig, ax = plt.subplots()\n",
    "fig.set_size_inches(15, 6)\n",
    "sns.countplot(x = 'poutcome', data = df_train, hue='y')\n",
    "ax.set_xlabel('Resultado', fontsize=12)\n",
    "ax.set_ylabel('Contagem', fontsize=10)\n",
    "ax.set_title('poutcome (resultado da campanha de marketing anterior)', fontsize=16)\n",
    "ax.tick_params(labelsize=10)\n",
    "sns.despine()"
   ]
  },
  {
   "cell_type": "code",
   "execution_count": 110,
   "metadata": {
    "scrolled": false
   },
   "outputs": [
    {
     "data": {
      "text/plain": [
       "<AxesSubplot:xlabel='campaign', ylabel='count'>"
      ]
     },
     "execution_count": 110,
     "metadata": {},
     "output_type": "execute_result"
    },
    {
     "data": {
      "image/png": "[encoded data removed]",
      "text/plain": [
       "<Figure size 1080x576 with 1 Axes>"
      ]
     },
     "metadata": {
      "needs_background": "light"
     },
     "output_type": "display_data"
    }
   ],
   "source": [
    "# Vamos explorar a variável 'campaign' (número de contatos realizados durante a campanha aos clientes)\n",
    "fig, ax = plt.subplots()\n",
    "fig.set_size_inches(15, 8)\n",
    "sns.countplot(data=df_train, x='campaign')"
   ]
  },
  {
   "cell_type": "code",
   "execution_count": 112,
   "metadata": {
    "scrolled": true
   },
   "outputs": [
    {
     "data": {
      "image/png": "[encoded data removed]",
      "text/plain": [
       "<Figure size 432x288 with 1 Axes>"
      ]
     },
     "metadata": {
      "needs_background": "light"
     },
     "output_type": "display_data"
    }
   ],
   "source": [
    "# Meio de contato predominante\n",
    "fig, ax = plt.subplots()\n",
    "sns.countplot(data=df_train, x='contact')\n",
    "ax.set_xlabel('Meio de contato', fontsize=12)\n",
    "ax.set_ylabel('Contagem', fontsize=10)\n",
    "ax.set_title ('Número de contatos por dispositivo', fontsize=16)\n",
    "ax.tick_params(labelsize=10)\n",
    "sns.despine()"
   ]
  },
  {
   "cell_type": "code",
   "execution_count": 138,
   "metadata": {
    "scrolled": false
   },
   "outputs": [
    {
     "data": {
      "image/png": "[encoded data removed]",
      "text/plain": [
       "<Figure size 1080x288 with 2 Axes>"
      ]
     },
     "metadata": {
      "needs_background": "light"
     },
     "output_type": "display_data"
    }
   ],
   "source": [
    "# Analisando os empréstimos\n",
    "fig, (ax1, ax2) = plt.subplots(nrows = 1, ncols = 2, figsize = (15,4))\n",
    "sns.countplot(x = 'loan', data = df_train, ax = ax1, order = ['no', 'yes'])\n",
    "ax1.set_title('Empréstimo pessoal', fontsize=15)\n",
    "ax1.set_xlabel('')\n",
    "ax1.set_ylabel('Contagem', fontsize=10)\n",
    "ax1.tick_params(labelsize=10)\n",
    "\n",
    "sns.countplot(x = 'housing', data = df_train, ax = ax2, order = ['no', 'yes'])\n",
    "ax2.set_title('Empréstimo para habitação', fontsize=15)\n",
    "ax2.set_xlabel('')\n",
    "ax2.set_ylabel('Contagem', fontsize=10)\n",
    "ax2.tick_params(labelsize=10)\n"
   ]
  },
  {
   "cell_type": "code",
   "execution_count": null,
   "metadata": {},
   "outputs": [],
   "source": []
  },
  {
   "cell_type": "markdown",
   "metadata": {},
   "source": [
    "## Limpeza e Transformação dos dados "
   ]
  },
  {
   "cell_type": "markdown",
   "metadata": {},
   "source": [
    "**Não há valor ausente neste dataset, porém existem valores como \"unknown\" e \"outros\" que devem ser tratados. Além disso, os outliers devem ser removidos do conjunto de dados. Outliers são definidos como os valores que estão a mais de três desvios padrão da média.**"
   ]
  },
  {
   "cell_type": "code",
   "execution_count": 38,
   "metadata": {},
   "outputs": [],
   "source": [
    "# Substituindo 'unknown' por 'other' no df_train\n",
    "df_train[['poutcome','job', 'education', 'contact']] = df_train[['poutcome','job','education','contact']].replace(['unknown'],'other')"
   ]
  },
  {
   "cell_type": "code",
   "execution_count": 39,
   "metadata": {},
   "outputs": [],
   "source": [
    "# Substituindo 'unknown' por 'other' no df_test\n",
    "df_test[['poutcome','job', 'education','contact']] = df_test[['poutcome','job','education','contact']].replace(['unknown'],'other')"
   ]
  },
  {
   "cell_type": "code",
   "execution_count": 40,
   "metadata": {
    "scrolled": true
   },
   "outputs": [
    {
     "data": {
      "text/html": [
       "<div>\n",
       "<style scoped>\n",
       "    .dataframe tbody tr th:only-of-type {\n",
       "        vertical-align: middle;\n",
       "    }\n",
       "\n",
       "    .dataframe tbody tr th {\n",
       "        vertical-align: top;\n",
       "    }\n",
       "\n",
       "    .dataframe thead th {\n",
       "        text-align: right;\n",
       "    }\n",
       "</style>\n",
       "<table border=\"1\" class=\"dataframe\">\n",
       "  <thead>\n",
       "    <tr style=\"text-align: right;\">\n",
       "      <th></th>\n",
       "      <th>balance</th>\n",
       "    </tr>\n",
       "  </thead>\n",
       "  <tbody>\n",
       "    <tr>\n",
       "      <th>count</th>\n",
       "      <td>45211.0</td>\n",
       "    </tr>\n",
       "    <tr>\n",
       "      <th>mean</th>\n",
       "      <td>1362.0</td>\n",
       "    </tr>\n",
       "    <tr>\n",
       "      <th>std</th>\n",
       "      <td>3045.0</td>\n",
       "    </tr>\n",
       "    <tr>\n",
       "      <th>min</th>\n",
       "      <td>-8019.0</td>\n",
       "    </tr>\n",
       "    <tr>\n",
       "      <th>25%</th>\n",
       "      <td>72.0</td>\n",
       "    </tr>\n",
       "    <tr>\n",
       "      <th>50%</th>\n",
       "      <td>448.0</td>\n",
       "    </tr>\n",
       "    <tr>\n",
       "      <th>75%</th>\n",
       "      <td>1428.0</td>\n",
       "    </tr>\n",
       "    <tr>\n",
       "      <th>max</th>\n",
       "      <td>102127.0</td>\n",
       "    </tr>\n",
       "  </tbody>\n",
       "</table>\n",
       "</div>"
      ],
      "text/plain": [
       "        balance\n",
       "count   45211.0\n",
       "mean     1362.0\n",
       "std      3045.0\n",
       "min     -8019.0\n",
       "25%        72.0\n",
       "50%       448.0\n",
       "75%      1428.0\n",
       "max    102127.0"
      ]
     },
     "execution_count": 40,
     "metadata": {},
     "output_type": "execute_result"
    }
   ],
   "source": [
    "# Obtendo os dados estatistícos da variável'balance'\n",
    "df_train[['balance']].describe().round()"
   ]
  },
  {
   "cell_type": "markdown",
   "metadata": {},
   "source": [
    "Os valores discrepantes na coluna 'balance' precisam ser descartados. "
   ]
  },
  {
   "cell_type": "code",
   "execution_count": 41,
   "metadata": {},
   "outputs": [],
   "source": [
    "from scipy.stats import zscore\n",
    "# Criando uma nova tabela e calculando o zscore nela.\n",
    "df_train['balance_outliers'] = df_train['balance']\n",
    "df_train['balance_outliers']= zscore(df_train['balance_outliers'])\n",
    "# Criando uma variável para filtrar os outliers\n",
    "cond_outliers = (df_train['balance_outliers']>3) | (df_train['balance_outliers']<-3 )\n",
    "# Aplicando o filtro e removendo os outliers\n",
    "train_dataset = df_train.drop(df_train[cond_outliers].index, axis = 0, inplace = False)"
   ]
  },
  {
   "cell_type": "code",
   "execution_count": 42,
   "metadata": {},
   "outputs": [
    {
     "data": {
      "text/plain": [
       "(44466, 16)"
      ]
     },
     "execution_count": 42,
     "metadata": {},
     "output_type": "execute_result"
    }
   ],
   "source": [
    "train_dataset.shape"
   ]
  },
  {
   "cell_type": "code",
   "execution_count": 43,
   "metadata": {},
   "outputs": [],
   "source": [
    "train_dataset2 = train_dataset.drop('balance_outliers', axis=1)"
   ]
  },
  {
   "cell_type": "code",
   "execution_count": 44,
   "metadata": {
    "scrolled": true
   },
   "outputs": [
    {
     "data": {
      "text/plain": [
       "(44466, 15)"
      ]
     },
     "execution_count": 44,
     "metadata": {},
     "output_type": "execute_result"
    }
   ],
   "source": [
    "train_dataset2.shape"
   ]
  },
  {
   "cell_type": "code",
   "execution_count": 45,
   "metadata": {},
   "outputs": [
    {
     "data": {
      "text/plain": [
       "0    39298\n",
       "1     5168\n",
       "Name: resposta_subscricao, dtype: int64"
      ]
     },
     "execution_count": 45,
     "metadata": {},
     "output_type": "execute_result"
    }
   ],
   "source": [
    "# Criando uma nova tabela com as respostas da subscrição em formato numérico (No = 0, Yes = 1)\n",
    "def convert(dataset, new_column, old_column):\n",
    "    dataset[new_column] = dataset[old_column].apply(lambda x: 0 if x == 'no' else 1)\n",
    "    return dataset[new_column].value_counts()\n",
    "\n",
    "convert(train_dataset2, \"resposta_subscricao\", \"y\")"
   ]
  },
  {
   "cell_type": "code",
   "execution_count": 46,
   "metadata": {},
   "outputs": [],
   "source": [
    "train_dataset3 = train_dataset2.drop('y', axis=1)"
   ]
  },
  {
   "cell_type": "code",
   "execution_count": 47,
   "metadata": {},
   "outputs": [],
   "source": [
    "# Mudando a unidade de 'duration' de segundos para minutos\n",
    "train_dataset3['duration'] = train_dataset3['duration'].apply(lambda n:n/60).round(2)"
   ]
  },
  {
   "cell_type": "code",
   "execution_count": 48,
   "metadata": {},
   "outputs": [],
   "source": [
    "train_dataset2['duration'] = train_dataset2['duration'].apply(lambda n:n/60).round(2)"
   ]
  },
  {
   "cell_type": "code",
   "execution_count": 49,
   "metadata": {},
   "outputs": [],
   "source": [
    "train_dataset2.rename(index=str, columns={'y': 'resposta'}, inplace = True)"
   ]
  },
  {
   "cell_type": "markdown",
   "metadata": {},
   "source": [
    "## Insights"
   ]
  },
  {
   "cell_type": "code",
   "execution_count": 50,
   "metadata": {
    "scrolled": false
   },
   "outputs": [
    {
     "data": {
      "image/png": "[encoded data removed]",
      "text/plain": [
       "<Figure size 720x432 with 2 Axes>"
      ]
     },
     "metadata": {
      "needs_background": "light"
     },
     "output_type": "display_data"
    }
   ],
   "source": [
    "dist_age_balance = plt.figure(figsize = (10,6))\n",
    "\n",
    "graf1 = dist_age_balance.add_subplot(1,2,1) \n",
    "graf2 = dist_age_balance.add_subplot(1,2,2)\n",
    "\n",
    "graf1.hist(train_dataset3['age'], color = 'orange')\n",
    "graf1.set_title('Distribuição da idade')\n",
    "\n",
    "graf2.hist(train_dataset3['balance'], color = 'green')\n",
    "graf2.set_title('Distribuição do saldo')\n",
    "\n",
    "plt.tight_layout() \n",
    "plt.show()"
   ]
  },
  {
   "cell_type": "code",
   "execution_count": 51,
   "metadata": {
    "scrolled": true
   },
   "outputs": [
    {
     "data": {
      "text/plain": [
       "count    44466.000000\n",
       "mean      1084.544483\n",
       "std       1721.069271\n",
       "min      -6847.000000\n",
       "25%         68.000000\n",
       "50%        431.000000\n",
       "75%       1347.000000\n",
       "max      10483.000000\n",
       "Name: balance, dtype: float64"
      ]
     },
     "execution_count": 51,
     "metadata": {},
     "output_type": "execute_result"
    }
   ],
   "source": [
    "train_dataset3.balance.describe()"
   ]
  },
  {
   "cell_type": "markdown",
   "metadata": {},
   "source": [
    "- Os clientes chamados pelo banco possuem uma faixa etária extensa, de 18 a 95 anos. No entanto, a maioria dos clientes chamados tem entre 30 e 40 anos. \n",
    "\n",
    "- Após a eliminação dos outliers do saldo, o intervalo ainda é enorme, de um mínimo de -6847 a um máximo de 10443 euros. A distribuição do saldo tem um grande desvio padrão em relação à média, sugerindo grandes variabilidades nos níveis de saldo dos clientes."
   ]
  },
  {
   "cell_type": "code",
   "execution_count": 52,
   "metadata": {
    "scrolled": false
   },
   "outputs": [
    {
     "data": {
      "image/png": "[encoded data removed]",
      "text/plain": [
       "<Figure size 576x576 with 2 Axes>"
      ]
     },
     "metadata": {
      "needs_background": "light"
     },
     "output_type": "display_data"
    }
   ],
   "source": [
    "dist_dur_cam = train_dataset3[['duration','campaign']].plot(kind = 'box', \n",
    "                                                      figsize = (8,8),\n",
    "                                                      subplots = True, layout = (1,2),\n",
    "                                                      sharex = False, sharey = False,\n",
    "                                                      title=\"Distribuição de 'Duration' e 'Campaign'\")\n",
    "plt.show()"
   ]
  },
  {
   "cell_type": "code",
   "execution_count": 53,
   "metadata": {
    "scrolled": true
   },
   "outputs": [
    {
     "data": {
      "text/plain": [
       "count    44466.00\n",
       "mean         4.30\n",
       "std          4.29\n",
       "min          0.00\n",
       "25%          1.72\n",
       "50%          3.00\n",
       "75%          5.32\n",
       "max         81.97\n",
       "Name: duration, dtype: float64"
      ]
     },
     "execution_count": 53,
     "metadata": {},
     "output_type": "execute_result"
    }
   ],
   "source": [
    "train_dataset3.duration.describe().round(2)"
   ]
  },
  {
   "cell_type": "code",
   "execution_count": 54,
   "metadata": {},
   "outputs": [
    {
     "data": {
      "text/plain": [
       "count    44466.00\n",
       "mean         2.77\n",
       "std          3.10\n",
       "min          1.00\n",
       "25%          1.00\n",
       "50%          2.00\n",
       "75%          3.00\n",
       "max         63.00\n",
       "Name: campaign, dtype: float64"
      ]
     },
     "execution_count": 54,
     "metadata": {},
     "output_type": "execute_result"
    }
   ],
   "source": [
    "train_dataset3.campaign.describe().round(2)"
   ]
  },
  {
   "cell_type": "markdown",
   "metadata": {},
   "source": [
    "- Conforme observado no box plot, a duração do contato tem uma mediana de 3 minutos, com intervalo interquartil de 1,8 minutos a 5,4 minutos. O boxplot inclinado para a esquerda indica que a maioria das chamadas são relativamente curtas. Além disso, há um grande número de outliers que variam de 10 a 40 minutos, que valem um estudo mais aprofundado.\n",
    "\n",
    "- Cerca de metade dos clientes foram contactados pelo banco uma segunda vez, enquanto 25% foi apresentado ao depósito a prazo. A maioria dos clientes foi contatada pelo banco de uma a três vezes, o que é razoável. No entanto, alguns clientes foram contatados por até 58 vezes, o que não é normal. Esses clientes podem ter algumas necessidades especiais que requerem contato frequente."
   ]
  },
  {
   "cell_type": "code",
   "execution_count": 55,
   "metadata": {},
   "outputs": [
    {
     "data": {
      "image/png": "[encoded data removed]",
      "text/plain": [
       "<Figure size 413.25x360 with 1 Axes>"
      ]
     },
     "metadata": {
      "needs_background": "light"
     },
     "output_type": "display_data"
    }
   ],
   "source": [
    "#Plotando a relação entre a duração das ligações, o número de ligações e as respostas recebidas\n",
    "dur_cam = sns.lmplot(x='duration', y='campaign',data = train_dataset2,\n",
    "                     hue = 'resposta',\n",
    "                     fit_reg = False,  palette='viridis',\n",
    "                     scatter_kws={'alpha':0.6}, height =5)\n",
    "\n",
    "plt.axis([0,65,0,65])\n",
    "plt.ylabel('Número de chamadas')\n",
    "plt.xlabel('Duração das chamadas (Min)')\n",
    "plt.title('Relação entre o número e as durações das chamadas')\n",
    "\n",
    "plt.show()"
   ]
  },
  {
   "cell_type": "markdown",
   "metadata": {},
   "source": [
    "Neste gráfico de dispersão, os clientes que aderiram ao depósito a prazo são indicados como \"yes\", enquanto os que não o fazem são indicados como \"no\".\n",
    "\n",
    "Como podemos ver no gráfico, clientes “sim” e clientes “não” estão formando dois grupos relativamente separados. Em comparação com os clientes “não” ”, os clientes“ sim ”foram contatados por menos vezes e tiveram maior duração da chamada. Mais importante, após cinco ligações, os clientes estão mais propensos a rejeitar o depósito a prazo, a menos que a duração seja alta. A maioria dos clientes “sim” foi abordada por menos de 10 vezes.\n",
    "\n",
    "Isso sugere que o banco deve resistir a ligar para um cliente mais de cinco vezes, o que pode ser perturbador e aumentar a insatisfação."
   ]
  },
  {
   "cell_type": "code",
   "execution_count": 56,
   "metadata": {},
   "outputs": [],
   "source": [
    "# Correlação\n",
    "train_dataset3_corr = train_dataset3.corr()"
   ]
  },
  {
   "cell_type": "code",
   "execution_count": 57,
   "metadata": {
    "scrolled": false
   },
   "outputs": [
    {
     "data": {
      "text/plain": [
       "<AxesSubplot:>"
      ]
     },
     "execution_count": 57,
     "metadata": {},
     "output_type": "execute_result"
    },
    {
     "data": {
      "image/png": "[encoded data removed]",
      "text/plain": [
       "<Figure size 1080x576 with 2 Axes>"
      ]
     },
     "metadata": {
      "needs_background": "light"
     },
     "output_type": "display_data"
    }
   ],
   "source": [
    "# Plotando a matriz de correlação\n",
    "fig,ax= plt.subplots()\n",
    "fig.set_size_inches(15,8)\n",
    "sns.heatmap(train_dataset3_corr, annot=True, cmap='YlGnBu')"
   ]
  },
  {
   "cell_type": "markdown",
   "metadata": {},
   "source": [
    "Claramente, 'resposta_subscricao' tem uma correlação forte com 'duration'. Sua influência no resultado da campanha será investigada mais detalhadamente na parte de machine learning."
   ]
  },
  {
   "cell_type": "code",
   "execution_count": 58,
   "metadata": {},
   "outputs": [
    {
     "data": {
      "text/html": [
       "<div>\n",
       "<style scoped>\n",
       "    .dataframe tbody tr th:only-of-type {\n",
       "        vertical-align: middle;\n",
       "    }\n",
       "\n",
       "    .dataframe tbody tr th {\n",
       "        vertical-align: top;\n",
       "    }\n",
       "\n",
       "    .dataframe thead th {\n",
       "        text-align: right;\n",
       "    }\n",
       "</style>\n",
       "<table border=\"1\" class=\"dataframe\">\n",
       "  <thead>\n",
       "    <tr style=\"text-align: right;\">\n",
       "      <th></th>\n",
       "      <th>job_admin.</th>\n",
       "      <th>job_blue-collar</th>\n",
       "      <th>job_entrepreneur</th>\n",
       "      <th>job_housemaid</th>\n",
       "      <th>job_management</th>\n",
       "      <th>job_other</th>\n",
       "      <th>job_retired</th>\n",
       "      <th>job_self-employed</th>\n",
       "      <th>job_services</th>\n",
       "      <th>job_student</th>\n",
       "      <th>...</th>\n",
       "      <th>contact_telephone</th>\n",
       "      <th>poutcome_failure</th>\n",
       "      <th>poutcome_other</th>\n",
       "      <th>poutcome_success</th>\n",
       "      <th>loan_no</th>\n",
       "      <th>loan_yes</th>\n",
       "      <th>default_no</th>\n",
       "      <th>default_yes</th>\n",
       "      <th>housing_no</th>\n",
       "      <th>housing_yes</th>\n",
       "    </tr>\n",
       "  </thead>\n",
       "  <tbody>\n",
       "    <tr>\n",
       "      <th>0</th>\n",
       "      <td>0</td>\n",
       "      <td>0</td>\n",
       "      <td>0</td>\n",
       "      <td>0</td>\n",
       "      <td>1</td>\n",
       "      <td>0</td>\n",
       "      <td>0</td>\n",
       "      <td>0</td>\n",
       "      <td>0</td>\n",
       "      <td>0</td>\n",
       "      <td>...</td>\n",
       "      <td>0</td>\n",
       "      <td>0</td>\n",
       "      <td>1</td>\n",
       "      <td>0</td>\n",
       "      <td>1</td>\n",
       "      <td>0</td>\n",
       "      <td>1</td>\n",
       "      <td>0</td>\n",
       "      <td>0</td>\n",
       "      <td>1</td>\n",
       "    </tr>\n",
       "    <tr>\n",
       "      <th>1</th>\n",
       "      <td>0</td>\n",
       "      <td>0</td>\n",
       "      <td>0</td>\n",
       "      <td>0</td>\n",
       "      <td>0</td>\n",
       "      <td>0</td>\n",
       "      <td>0</td>\n",
       "      <td>0</td>\n",
       "      <td>0</td>\n",
       "      <td>0</td>\n",
       "      <td>...</td>\n",
       "      <td>0</td>\n",
       "      <td>0</td>\n",
       "      <td>1</td>\n",
       "      <td>0</td>\n",
       "      <td>1</td>\n",
       "      <td>0</td>\n",
       "      <td>1</td>\n",
       "      <td>0</td>\n",
       "      <td>0</td>\n",
       "      <td>1</td>\n",
       "    </tr>\n",
       "    <tr>\n",
       "      <th>2</th>\n",
       "      <td>0</td>\n",
       "      <td>0</td>\n",
       "      <td>1</td>\n",
       "      <td>0</td>\n",
       "      <td>0</td>\n",
       "      <td>0</td>\n",
       "      <td>0</td>\n",
       "      <td>0</td>\n",
       "      <td>0</td>\n",
       "      <td>0</td>\n",
       "      <td>...</td>\n",
       "      <td>0</td>\n",
       "      <td>0</td>\n",
       "      <td>1</td>\n",
       "      <td>0</td>\n",
       "      <td>0</td>\n",
       "      <td>1</td>\n",
       "      <td>1</td>\n",
       "      <td>0</td>\n",
       "      <td>0</td>\n",
       "      <td>1</td>\n",
       "    </tr>\n",
       "    <tr>\n",
       "      <th>3</th>\n",
       "      <td>0</td>\n",
       "      <td>1</td>\n",
       "      <td>0</td>\n",
       "      <td>0</td>\n",
       "      <td>0</td>\n",
       "      <td>0</td>\n",
       "      <td>0</td>\n",
       "      <td>0</td>\n",
       "      <td>0</td>\n",
       "      <td>0</td>\n",
       "      <td>...</td>\n",
       "      <td>0</td>\n",
       "      <td>0</td>\n",
       "      <td>1</td>\n",
       "      <td>0</td>\n",
       "      <td>1</td>\n",
       "      <td>0</td>\n",
       "      <td>1</td>\n",
       "      <td>0</td>\n",
       "      <td>0</td>\n",
       "      <td>1</td>\n",
       "    </tr>\n",
       "    <tr>\n",
       "      <th>4</th>\n",
       "      <td>0</td>\n",
       "      <td>0</td>\n",
       "      <td>0</td>\n",
       "      <td>0</td>\n",
       "      <td>0</td>\n",
       "      <td>1</td>\n",
       "      <td>0</td>\n",
       "      <td>0</td>\n",
       "      <td>0</td>\n",
       "      <td>0</td>\n",
       "      <td>...</td>\n",
       "      <td>0</td>\n",
       "      <td>0</td>\n",
       "      <td>1</td>\n",
       "      <td>0</td>\n",
       "      <td>1</td>\n",
       "      <td>0</td>\n",
       "      <td>1</td>\n",
       "      <td>0</td>\n",
       "      <td>1</td>\n",
       "      <td>0</td>\n",
       "    </tr>\n",
       "  </tbody>\n",
       "</table>\n",
       "<p>5 rows × 31 columns</p>\n",
       "</div>"
      ],
      "text/plain": [
       "   job_admin.  job_blue-collar  job_entrepreneur  job_housemaid  \\\n",
       "0           0                0                 0              0   \n",
       "1           0                0                 0              0   \n",
       "2           0                0                 1              0   \n",
       "3           0                1                 0              0   \n",
       "4           0                0                 0              0   \n",
       "\n",
       "   job_management  job_other  job_retired  job_self-employed  job_services  \\\n",
       "0               1          0            0                  0             0   \n",
       "1               0          0            0                  0             0   \n",
       "2               0          0            0                  0             0   \n",
       "3               0          0            0                  0             0   \n",
       "4               0          1            0                  0             0   \n",
       "\n",
       "   job_student  ...  contact_telephone  poutcome_failure  poutcome_other  \\\n",
       "0            0  ...                  0                 0               1   \n",
       "1            0  ...                  0                 0               1   \n",
       "2            0  ...                  0                 0               1   \n",
       "3            0  ...                  0                 0               1   \n",
       "4            0  ...                  0                 0               1   \n",
       "\n",
       "   poutcome_success  loan_no  loan_yes  default_no  default_yes  housing_no  \\\n",
       "0                 0        1         0           1            0           0   \n",
       "1                 0        1         0           1            0           0   \n",
       "2                 0        0         1           1            0           0   \n",
       "3                 0        1         0           1            0           0   \n",
       "4                 0        1         0           1            0           1   \n",
       "\n",
       "   housing_yes  \n",
       "0            1  \n",
       "1            1  \n",
       "2            1  \n",
       "3            1  \n",
       "4            0  \n",
       "\n",
       "[5 rows x 31 columns]"
      ]
     },
     "execution_count": 58,
     "metadata": {},
     "output_type": "execute_result"
    }
   ],
   "source": [
    "# One-hot encoding (transformação de variável categoricas em numéricas)\n",
    "colunas_cat = train_dataset3[['job', 'marital', 'education', 'contact', 'poutcome', 'loan', 'default', 'housing']]\n",
    "colunas_cat = pd.get_dummies(colunas_cat)\n",
    "colunas_cat.head()"
   ]
  },
  {
   "cell_type": "code",
   "execution_count": 59,
   "metadata": {},
   "outputs": [
    {
     "data": {
      "text/html": [
       "<div>\n",
       "<style scoped>\n",
       "    .dataframe tbody tr th:only-of-type {\n",
       "        vertical-align: middle;\n",
       "    }\n",
       "\n",
       "    .dataframe tbody tr th {\n",
       "        vertical-align: top;\n",
       "    }\n",
       "\n",
       "    .dataframe thead th {\n",
       "        text-align: right;\n",
       "    }\n",
       "</style>\n",
       "<table border=\"1\" class=\"dataframe\">\n",
       "  <thead>\n",
       "    <tr style=\"text-align: right;\">\n",
       "      <th></th>\n",
       "      <th>age</th>\n",
       "      <th>duration</th>\n",
       "      <th>campaign</th>\n",
       "      <th>pdays</th>\n",
       "      <th>previous</th>\n",
       "      <th>balance</th>\n",
       "      <th>resposta_subscricao</th>\n",
       "      <th>job_admin.</th>\n",
       "      <th>job_blue-collar</th>\n",
       "      <th>job_entrepreneur</th>\n",
       "      <th>...</th>\n",
       "      <th>contact_telephone</th>\n",
       "      <th>poutcome_failure</th>\n",
       "      <th>poutcome_other</th>\n",
       "      <th>poutcome_success</th>\n",
       "      <th>loan_no</th>\n",
       "      <th>loan_yes</th>\n",
       "      <th>default_no</th>\n",
       "      <th>default_yes</th>\n",
       "      <th>housing_no</th>\n",
       "      <th>housing_yes</th>\n",
       "    </tr>\n",
       "  </thead>\n",
       "  <tbody>\n",
       "    <tr>\n",
       "      <th>0</th>\n",
       "      <td>58</td>\n",
       "      <td>4.35</td>\n",
       "      <td>1</td>\n",
       "      <td>-1</td>\n",
       "      <td>0</td>\n",
       "      <td>2143</td>\n",
       "      <td>0</td>\n",
       "      <td>0</td>\n",
       "      <td>0</td>\n",
       "      <td>0</td>\n",
       "      <td>...</td>\n",
       "      <td>0</td>\n",
       "      <td>0</td>\n",
       "      <td>1</td>\n",
       "      <td>0</td>\n",
       "      <td>1</td>\n",
       "      <td>0</td>\n",
       "      <td>1</td>\n",
       "      <td>0</td>\n",
       "      <td>0</td>\n",
       "      <td>1</td>\n",
       "    </tr>\n",
       "    <tr>\n",
       "      <th>1</th>\n",
       "      <td>44</td>\n",
       "      <td>2.52</td>\n",
       "      <td>1</td>\n",
       "      <td>-1</td>\n",
       "      <td>0</td>\n",
       "      <td>29</td>\n",
       "      <td>0</td>\n",
       "      <td>0</td>\n",
       "      <td>0</td>\n",
       "      <td>0</td>\n",
       "      <td>...</td>\n",
       "      <td>0</td>\n",
       "      <td>0</td>\n",
       "      <td>1</td>\n",
       "      <td>0</td>\n",
       "      <td>1</td>\n",
       "      <td>0</td>\n",
       "      <td>1</td>\n",
       "      <td>0</td>\n",
       "      <td>0</td>\n",
       "      <td>1</td>\n",
       "    </tr>\n",
       "    <tr>\n",
       "      <th>2</th>\n",
       "      <td>33</td>\n",
       "      <td>1.27</td>\n",
       "      <td>1</td>\n",
       "      <td>-1</td>\n",
       "      <td>0</td>\n",
       "      <td>2</td>\n",
       "      <td>0</td>\n",
       "      <td>0</td>\n",
       "      <td>0</td>\n",
       "      <td>1</td>\n",
       "      <td>...</td>\n",
       "      <td>0</td>\n",
       "      <td>0</td>\n",
       "      <td>1</td>\n",
       "      <td>0</td>\n",
       "      <td>0</td>\n",
       "      <td>1</td>\n",
       "      <td>1</td>\n",
       "      <td>0</td>\n",
       "      <td>0</td>\n",
       "      <td>1</td>\n",
       "    </tr>\n",
       "    <tr>\n",
       "      <th>3</th>\n",
       "      <td>47</td>\n",
       "      <td>1.53</td>\n",
       "      <td>1</td>\n",
       "      <td>-1</td>\n",
       "      <td>0</td>\n",
       "      <td>1506</td>\n",
       "      <td>0</td>\n",
       "      <td>0</td>\n",
       "      <td>1</td>\n",
       "      <td>0</td>\n",
       "      <td>...</td>\n",
       "      <td>0</td>\n",
       "      <td>0</td>\n",
       "      <td>1</td>\n",
       "      <td>0</td>\n",
       "      <td>1</td>\n",
       "      <td>0</td>\n",
       "      <td>1</td>\n",
       "      <td>0</td>\n",
       "      <td>0</td>\n",
       "      <td>1</td>\n",
       "    </tr>\n",
       "    <tr>\n",
       "      <th>4</th>\n",
       "      <td>33</td>\n",
       "      <td>3.30</td>\n",
       "      <td>1</td>\n",
       "      <td>-1</td>\n",
       "      <td>0</td>\n",
       "      <td>1</td>\n",
       "      <td>0</td>\n",
       "      <td>0</td>\n",
       "      <td>0</td>\n",
       "      <td>0</td>\n",
       "      <td>...</td>\n",
       "      <td>0</td>\n",
       "      <td>0</td>\n",
       "      <td>1</td>\n",
       "      <td>0</td>\n",
       "      <td>1</td>\n",
       "      <td>0</td>\n",
       "      <td>1</td>\n",
       "      <td>0</td>\n",
       "      <td>1</td>\n",
       "      <td>0</td>\n",
       "    </tr>\n",
       "  </tbody>\n",
       "</table>\n",
       "<p>5 rows × 38 columns</p>\n",
       "</div>"
      ],
      "text/plain": [
       "   age  duration  campaign  pdays  previous  balance  resposta_subscricao  \\\n",
       "0   58      4.35         1     -1         0     2143                    0   \n",
       "1   44      2.52         1     -1         0       29                    0   \n",
       "2   33      1.27         1     -1         0        2                    0   \n",
       "3   47      1.53         1     -1         0     1506                    0   \n",
       "4   33      3.30         1     -1         0        1                    0   \n",
       "\n",
       "   job_admin.  job_blue-collar  job_entrepreneur  ...  contact_telephone  \\\n",
       "0           0                0                 0  ...                  0   \n",
       "1           0                0                 0  ...                  0   \n",
       "2           0                0                 1  ...                  0   \n",
       "3           0                1                 0  ...                  0   \n",
       "4           0                0                 0  ...                  0   \n",
       "\n",
       "   poutcome_failure  poutcome_other  poutcome_success  loan_no  loan_yes  \\\n",
       "0                 0               1                 0        1         0   \n",
       "1                 0               1                 0        1         0   \n",
       "2                 0               1                 0        0         1   \n",
       "3                 0               1                 0        1         0   \n",
       "4                 0               1                 0        1         0   \n",
       "\n",
       "   default_no  default_yes  housing_no  housing_yes  \n",
       "0           1            0           0            1  \n",
       "1           1            0           0            1  \n",
       "2           1            0           0            1  \n",
       "3           1            0           0            1  \n",
       "4           1            0           1            0  \n",
       "\n",
       "[5 rows x 38 columns]"
      ]
     },
     "execution_count": 59,
     "metadata": {},
     "output_type": "execute_result"
    }
   ],
   "source": [
    "colunas_num = train_dataset3[['age', 'duration', 'campaign', 'pdays', 'previous', 'balance', 'resposta_subscricao']]\n",
    "train_dataset4 = pd.concat([colunas_num, colunas_cat], axis = 1)\n",
    "train_dataset4.head()"
   ]
  },
  {
   "cell_type": "code",
   "execution_count": 60,
   "metadata": {},
   "outputs": [],
   "source": [
    "lst = [train_dataset2]\n",
    "for column in lst:\n",
    "    column.loc[column[\"age\"] < 30,  'age_group'] = 20\n",
    "    column.loc[(column[\"age\"] >= 30) & (column[\"age\"] <= 39), 'age_group'] = 30\n",
    "    column.loc[(column[\"age\"] >= 40) & (column[\"age\"] <= 49), 'age_group'] = 40\n",
    "    column.loc[(column[\"age\"] >= 50) & (column[\"age\"] <= 59), 'age_group'] = 50\n",
    "    column.loc[column[\"age\"] >= 60, 'age_group'] = 60"
   ]
  },
  {
   "cell_type": "code",
   "execution_count": 141,
   "metadata": {
    "scrolled": true
   },
   "outputs": [
    {
     "data": {
      "text/html": [
       "<div>\n",
       "<style scoped>\n",
       "    .dataframe tbody tr th:only-of-type {\n",
       "        vertical-align: middle;\n",
       "    }\n",
       "\n",
       "    .dataframe tbody tr th {\n",
       "        vertical-align: top;\n",
       "    }\n",
       "\n",
       "    .dataframe thead th {\n",
       "        text-align: right;\n",
       "    }\n",
       "</style>\n",
       "<table border=\"1\" class=\"dataframe\">\n",
       "  <thead>\n",
       "    <tr style=\"text-align: right;\">\n",
       "      <th>age_group</th>\n",
       "      <th>20.0</th>\n",
       "      <th>30.0</th>\n",
       "      <th>40.0</th>\n",
       "      <th>50.0</th>\n",
       "      <th>60.0</th>\n",
       "    </tr>\n",
       "    <tr>\n",
       "      <th>resposta</th>\n",
       "      <th></th>\n",
       "      <th></th>\n",
       "      <th></th>\n",
       "      <th></th>\n",
       "      <th></th>\n",
       "    </tr>\n",
       "  </thead>\n",
       "  <tbody>\n",
       "    <tr>\n",
       "      <th>no</th>\n",
       "      <td>4311</td>\n",
       "      <td>15957</td>\n",
       "      <td>10426</td>\n",
       "      <td>7463</td>\n",
       "      <td>1141</td>\n",
       "    </tr>\n",
       "    <tr>\n",
       "      <th>yes</th>\n",
       "      <td>911</td>\n",
       "      <td>1876</td>\n",
       "      <td>1036</td>\n",
       "      <td>770</td>\n",
       "      <td>575</td>\n",
       "    </tr>\n",
       "  </tbody>\n",
       "</table>\n",
       "</div>"
      ],
      "text/plain": [
       "age_group  20.0   30.0   40.0  50.0  60.0\n",
       "resposta                                 \n",
       "no         4311  15957  10426  7463  1141\n",
       "yes         911   1876   1036   770   575"
      ]
     },
     "execution_count": 141,
     "metadata": {},
     "output_type": "execute_result"
    }
   ],
   "source": [
    "pd.crosstab(train_dataset2['resposta'],train_dataset2['age_group']).head()"
   ]
  },
  {
   "cell_type": "code",
   "execution_count": 140,
   "metadata": {},
   "outputs": [
    {
     "data": {
      "text/html": [
       "<div>\n",
       "<style scoped>\n",
       "    .dataframe tbody tr th:only-of-type {\n",
       "        vertical-align: middle;\n",
       "    }\n",
       "\n",
       "    .dataframe tbody tr th {\n",
       "        vertical-align: top;\n",
       "    }\n",
       "\n",
       "    .dataframe thead th {\n",
       "        text-align: right;\n",
       "    }\n",
       "</style>\n",
       "<table border=\"1\" class=\"dataframe\">\n",
       "  <thead>\n",
       "    <tr style=\"text-align: right;\">\n",
       "      <th>age_group</th>\n",
       "      <th>20.0</th>\n",
       "      <th>30.0</th>\n",
       "      <th>40.0</th>\n",
       "      <th>50.0</th>\n",
       "      <th>60.0</th>\n",
       "    </tr>\n",
       "    <tr>\n",
       "      <th>resposta</th>\n",
       "      <th></th>\n",
       "      <th></th>\n",
       "      <th></th>\n",
       "      <th></th>\n",
       "      <th></th>\n",
       "    </tr>\n",
       "  </thead>\n",
       "  <tbody>\n",
       "    <tr>\n",
       "      <th>no</th>\n",
       "      <td>82.554577</td>\n",
       "      <td>89.480177</td>\n",
       "      <td>90.961438</td>\n",
       "      <td>90.647395</td>\n",
       "      <td>66.491841</td>\n",
       "    </tr>\n",
       "    <tr>\n",
       "      <th>yes</th>\n",
       "      <td>17.445423</td>\n",
       "      <td>10.519823</td>\n",
       "      <td>9.038562</td>\n",
       "      <td>9.352605</td>\n",
       "      <td>33.508159</td>\n",
       "    </tr>\n",
       "  </tbody>\n",
       "</table>\n",
       "</div>"
      ],
      "text/plain": [
       "age_group       20.0       30.0       40.0       50.0       60.0\n",
       "resposta                                                        \n",
       "no         82.554577  89.480177  90.961438  90.647395  66.491841\n",
       "yes        17.445423  10.519823   9.038562   9.352605  33.508159"
      ]
     },
     "execution_count": 140,
     "metadata": {},
     "output_type": "execute_result"
    }
   ],
   "source": [
    "count_age_resposta_pct = pd.crosstab(train_dataset2['resposta'],train_dataset2['age_group']).apply(lambda x: x/x.sum() * 100)\n",
    "count_age_resposta_pct.head()"
   ]
  },
  {
   "cell_type": "code",
   "execution_count": 61,
   "metadata": {},
   "outputs": [],
   "source": [
    "count_age_resposta_pct = pd.crosstab(train_dataset2['resposta'],train_dataset2['age_group']).apply(lambda x: x/x.sum() * 100)\n",
    "count_age_resposta_pct = count_age_resposta_pct.transpose()"
   ]
  },
  {
   "cell_type": "code",
   "execution_count": 62,
   "metadata": {},
   "outputs": [],
   "source": [
    "count_age_resposta_pct = pd.crosstab(train_dataset2['resposta'],train_dataset2['age_group']).apply(lambda x: x/x.sum() * 100)\n",
    "count_age_resposta_pct = count_age_resposta_pct.transpose()"
   ]
  },
  {
   "cell_type": "code",
   "execution_count": 63,
   "metadata": {},
   "outputs": [],
   "source": [
    "age = pd.DataFrame(train_dataset2['age_group'].value_counts())\n",
    "age['% Contactado'] = age['age_group']*100/age['age_group'].sum()\n",
    "age['% Subscrição'] = count_age_resposta_pct['yes']\n",
    "age.drop('age_group',axis = 1,inplace = True)\n",
    "\n",
    "age['age'] = [30,40,50,20,60]\n",
    "age = age.sort_values('age',ascending = True)"
   ]
  },
  {
   "cell_type": "code",
   "execution_count": 64,
   "metadata": {},
   "outputs": [
    {
     "data": {
      "image/png": "[encoded data removed]",
      "text/plain": [
       "<Figure size 576x432 with 1 Axes>"
      ]
     },
     "metadata": {
      "needs_background": "light"
     },
     "output_type": "display_data"
    }
   ],
   "source": [
    "import numpy as np\n",
    "plot_age = age[['% Subscrição','% Contactado']].plot(kind = 'bar',\n",
    "                                              figsize=(8,6), color = ('skyblue','magenta'))\n",
    "plt.xlabel('Faixas etárias')\n",
    "plt.ylabel('Taxa de subscrição')\n",
    "plt.xticks(np.arange(5), ('<30', '30-39', '40-49', '50-59', '60+'),rotation = 'horizontal')\n",
    "plt.title('Taxa subscrição por faixa etária')\n",
    "plt.show()"
   ]
  },
  {
   "cell_type": "markdown",
   "metadata": {},
   "source": [
    "- Focar no mais jovens e os mais velhos, em vez dos de meia-idade\n",
    "\n",
    "- As barras verticais azuis indicam que os clientes com mais de 60 anos têm a maior taxa de assinatura. Cerca de 18% das subscrições provêm de clientes com idades compreendidas entre os 18 e os 29 anos. Mais de 50% das subscrições provém dos clientes mais jovens e mais velhos.\n",
    "\n",
    "- Observa-se esse padrão provavelmente porque o principal objetivo de investimento dos idosos é economizar para a aposentadoria, enquanto o grupo de meia-idade tende a ser mais agressivo com o objetivo principal de gerar altos rendimentos de investimento. Os depósitos a prazo, como ferramenta de investimento menos arriscada, são mais preferíveis pelo mais velhos.\n",
    "\n",
    "- O mais jovem pode não ter dinheiro ou conhecimento profissional suficiente para se envolver em investimentos mais complexos, como ações e fundos mútuos. Os depósitos a prazo fornecem liquidez e geram receitas de juros maiores do que a conta de poupança regular, portanto, os depósitos a prazo são investimentos ideais para os alunos.\n",
    "\n",
    "- No entanto, as barras verticais roxas mostram que o banco concentrou seus esforços de marketing no grupo de meia-idade, que retornou taxas de assinatura mais baixas do que os grupos mais jovens e mais velhos. \n",
    "\n",
    "- Portanto, para tornar a campanha de marketing mais eficaz, o banco deve visar clientes mais jovens e mais velhos no futuro."
   ]
  },
  {
   "cell_type": "code",
   "execution_count": 65,
   "metadata": {},
   "outputs": [],
   "source": [
    "lst = [train_dataset2]\n",
    "for column in lst:\n",
    "    column.loc[column[\"balance\"] <= 0,  'balance_group'] = 'Sem Saldo'\n",
    "    column.loc[(column[\"balance\"] > 0) & (column[\"balance\"] <= 1000), 'balance_group'] = 'Saldo Baixo'\n",
    "    column.loc[(column[\"balance\"] > 1000) & (column[\"balance\"] <= 5000), 'balance_group'] = 'Saldo Médio'\n",
    "    column.loc[(column[\"balance\"] > 5000), 'balance_group'] = 'Saldo Alto'"
   ]
  },
  {
   "cell_type": "code",
   "execution_count": 66,
   "metadata": {},
   "outputs": [],
   "source": [
    "count_balance_resposta_pct = pd.crosstab(train_dataset2['resposta'],train_dataset2['balance_group']).apply(lambda x: x/x.sum() * 100)\n",
    "count_balance_resposta_pct = count_balance_resposta_pct.transpose()"
   ]
  },
  {
   "cell_type": "code",
   "execution_count": 67,
   "metadata": {},
   "outputs": [],
   "source": [
    "bal = pd.DataFrame(train_dataset2['balance_group'].value_counts())\n",
    "bal['% Contactado'] = bal['balance_group']*100/bal['balance_group'].sum()\n",
    "bal['% Subscrição'] = count_balance_resposta_pct['yes']\n",
    "bal.drop('balance_group',axis = 1,inplace = True)\n",
    "\n",
    "bal['bal'] = [1,2,0,3]\n",
    "bal = bal.sort_values('bal',ascending = True)"
   ]
  },
  {
   "cell_type": "code",
   "execution_count": 68,
   "metadata": {},
   "outputs": [
    {
     "data": {
      "image/png": "[encoded data removed]",
      "text/plain": [
       "<Figure size 576x432 with 1 Axes>"
      ]
     },
     "metadata": {
      "needs_background": "light"
     },
     "output_type": "display_data"
    }
   ],
   "source": [
    "plot_balance = bal[['% Subscrição','% Contactado']].plot(kind = 'bar',\n",
    "                                               color = ('royalblue','pink'),\n",
    "                                               figsize = (8,6))\n",
    "\n",
    "plt.title('Subscrição X Categoria do saldo')\n",
    "plt.ylabel('Taxa de subscrição')\n",
    "plt.xlabel('Categoria do saldo')\n",
    "plt.xticks(rotation = 'horizontal')\n",
    "\n",
    "# Rótulo na barra de subscrição\n",
    "for rec, label in zip(plot_balance.patches,\n",
    "                      bal['% Subscrição'].round(1).astype(str)):\n",
    "    plot_balance.text(rec.get_x() + rec.get_width()/2, \n",
    "                      rec.get_height() + 1, \n",
    "                      label+'%',  \n",
    "                      ha = 'center', \n",
    "                      color = 'black')"
   ]
  },
  {
   "cell_type": "markdown",
   "metadata": {},
   "source": [
    "O foco deve ser clientes com saldo médio ou alto\n",
    "\n",
    "Para identificar a tendência mais facilmente, os clientes são classificados em quatro grupos com base em seus saldos:\n",
    "\n",
    "Sem Saldo: clientes com saldo negativo.\n",
    "Saldo Baixo: clientes com saldo entre 0 e 1000 euros\n",
    "Saldo Médio: clientes com saldo entre 1000 e 5000 euros.\n",
    "Saldo Alto: clientes com saldo superior a 5000 euros.\n",
    "\n",
    "Sem surpresa, este gráfico de barras indica uma correlação positiva entre os níveis de saldo dos clientes e a taxa de assinatura. Os clientes com saldos negativos retornaram apenas uma taxa de assinatura de 6,9%, enquanto os clientes com saldos médios ou altos tiveram taxas de assinatura significativamente mais altas, quase 15%.\n",
    "\n",
    "Nota-se que nesta campanha, mais de 50% dos clientes contactados apresentam apenas um nível de saldo baixo. No futuro, o banco deve mudar seu foco de marketing para clientes com saldo alto para garantir mais depósitos a prazo."
   ]
  },
  {
   "cell_type": "code",
   "execution_count": 69,
   "metadata": {},
   "outputs": [],
   "source": [
    "count_job_response_pct = pd.crosstab(train_dataset2['resposta'],train_dataset2['job']).apply(lambda x: x/x.sum() * 100)\n",
    "count_job_response_pct = count_job_response_pct.transpose()"
   ]
  },
  {
   "cell_type": "code",
   "execution_count": 142,
   "metadata": {},
   "outputs": [
    {
     "data": {
      "image/png": "[encoded data removed]",
      "text/plain": [
       "<Figure size 1080x432 with 1 Axes>"
      ]
     },
     "metadata": {
      "needs_background": "light"
     },
     "output_type": "display_data"
    }
   ],
   "source": [
    "plot_job = count_job_response_pct['yes'].sort_values(ascending = True).plot(kind ='barh',\n",
    "                                                                           figsize = (15,6), color = 'lightgreen')"
   ]
  },
  {
   "cell_type": "code",
   "execution_count": 70,
   "metadata": {},
   "outputs": [
    {
     "data": {
      "image/png": "[encoded data removed]",
      "text/plain": [
       "<Figure size 1080x432 with 1 Axes>"
      ]
     },
     "metadata": {
      "needs_background": "light"
     },
     "output_type": "display_data"
    }
   ],
   "source": [
    "plot_job = count_job_response_pct['yes'].sort_values(ascending = True).plot(kind ='barh',\n",
    "                                                                           figsize = (15,6), color = 'lightgreen')\n",
    "                                                                               \n",
    "plt.title('Taxa de subscrição por profissão')\n",
    "plt.xlabel('Taxa de subscrição')\n",
    "plt.ylabel('Profissões')\n",
    "\n",
    "# Label each bar\n",
    "for rec, label in zip(plot_job.patches,count_job_response_pct['yes'].sort_values(ascending = True).round(1).astype(str)):\n",
    "    plot_job.text(rec.get_width()+0.8, rec.get_y()+ rec.get_height()-0.5, label+'%', ha = 'center',  va='bottom')"
   ]
  },
  {
   "cell_type": "markdown",
   "metadata": {},
   "source": [
    "Esse gráfico vem reforçar ainda mais os clientes-alvo: Estudantes e Aposentados. É condizente com as descobertas anteriores de taxas de assinatura mais altas entre os mais jovens e os mais velhos (+50%)."
   ]
  },
  {
   "cell_type": "markdown",
   "metadata": {},
   "source": [
    "## Modelos de predição"
   ]
  },
  {
   "cell_type": "markdown",
   "metadata": {},
   "source": [
    "Até agora, explorou-se o dataset e foi possível extrair deles alguns insights valiosos. Chegou o momento de construir o modelo de predição. Vamos dividir os dados transformados em duas partes: treino e teste. A ideia por trás da divisão dos dados é que possamos medir a acurácia do modelo com dados não vistos.\n",
    "\n",
    "Amostras de treinamento: são amostras do conjunto de dados usado para treinar o modelo. Vamos usar 70% dos dados.\n",
    "Amostras de teste: são amostras usadas para medir a precisão ou desempenho do modelo. Vamos usar 30% dos dados."
   ]
  },
  {
   "cell_type": "markdown",
   "metadata": {},
   "source": [
    "#### Observação:\n",
    "\n",
    "O nosso dataset possui muito mais dados de pessoas que não fizeram o depósito a prazo do que pessoas que fizeram. Nessa situação,tendo um modelo de classificação por exemplo, o resultado desse modelo será enviesado, ou seja ele tende a classificar os novos dados como sendo da classe que possui mais exemplos. Mais para frente lidaremos com esta questão."
   ]
  },
  {
   "cell_type": "code",
   "execution_count": 71,
   "metadata": {
    "scrolled": true
   },
   "outputs": [
    {
     "name": "stdout",
     "output_type": "stream",
     "text": [
      "Requirement already satisfied: imblearn in c:\\users\\gerardo nago\\appdata\\roaming\\python\\python38\\site-packages (0.0)\n",
      "Requirement already satisfied: imbalanced-learn in c:\\users\\gerardo nago\\appdata\\roaming\\python\\python38\\site-packages (from imblearn) (0.8.0)\n",
      "Requirement already satisfied: numpy>=1.13.3 in c:\\programdata\\anaconda3\\lib\\site-packages (from imbalanced-learn->imblearn) (1.19.2)\n",
      "Requirement already satisfied: scikit-learn>=0.24 in c:\\users\\gerardo nago\\appdata\\roaming\\python\\python38\\site-packages (from imbalanced-learn->imblearn) (0.24.2)\n",
      "Requirement already satisfied: joblib>=0.11 in c:\\programdata\\anaconda3\\lib\\site-packages (from imbalanced-learn->imblearn) (0.17.0)\n",
      "Requirement already satisfied: scipy>=0.19.1 in c:\\programdata\\anaconda3\\lib\\site-packages (from imbalanced-learn->imblearn) (1.5.2)\n",
      "Requirement already satisfied: threadpoolctl>=2.0.0 in c:\\programdata\\anaconda3\\lib\\site-packages (from scikit-learn>=0.24->imbalanced-learn->imblearn) (2.1.0)\n"
     ]
    }
   ],
   "source": [
    "#instalando uma biblioteca necessária\n",
    "!pip install imblearn --user"
   ]
  },
  {
   "cell_type": "code",
   "execution_count": 72,
   "metadata": {
    "scrolled": true
   },
   "outputs": [],
   "source": [
    "# Importando as bibliotecas necessárias\n",
    "from sklearn.linear_model import LogisticRegression\n",
    "from sklearn.model_selection import train_test_split\n",
    "from sklearn.metrics import accuracy_score, confusion_matrix, classification_report\n",
    "from imblearn.over_sampling import SMOTE"
   ]
  },
  {
   "cell_type": "markdown",
   "metadata": {},
   "source": [
    "## Nomalização dos dados\n",
    "\n",
    "É importante normalizar os dados para que os algoritmos entendam que as features possuem unidades comparativas iguais. Por exemplo, temos a feature 'balance' com valores de saldos que tem uma escala muito mais alta do que o resto."
   ]
  },
  {
   "cell_type": "code",
   "execution_count": 73,
   "metadata": {},
   "outputs": [],
   "source": [
    "# Separando as features e a variável target\n",
    "features = train_dataset4.drop(\"resposta_subscricao\", axis = 1) \n",
    "target = train_dataset4.resposta_subscricao # variável que queremos prever"
   ]
  },
  {
   "cell_type": "code",
   "execution_count": 74,
   "metadata": {
    "scrolled": false
   },
   "outputs": [
    {
     "data": {
      "text/html": [
       "<div>\n",
       "<style scoped>\n",
       "    .dataframe tbody tr th:only-of-type {\n",
       "        vertical-align: middle;\n",
       "    }\n",
       "\n",
       "    .dataframe tbody tr th {\n",
       "        vertical-align: top;\n",
       "    }\n",
       "\n",
       "    .dataframe thead th {\n",
       "        text-align: right;\n",
       "    }\n",
       "</style>\n",
       "<table border=\"1\" class=\"dataframe\">\n",
       "  <thead>\n",
       "    <tr style=\"text-align: right;\">\n",
       "      <th></th>\n",
       "      <th>0</th>\n",
       "      <th>1</th>\n",
       "      <th>2</th>\n",
       "      <th>3</th>\n",
       "      <th>4</th>\n",
       "      <th>5</th>\n",
       "      <th>6</th>\n",
       "      <th>7</th>\n",
       "      <th>8</th>\n",
       "      <th>9</th>\n",
       "      <th>...</th>\n",
       "      <th>27</th>\n",
       "      <th>28</th>\n",
       "      <th>29</th>\n",
       "      <th>30</th>\n",
       "      <th>31</th>\n",
       "      <th>32</th>\n",
       "      <th>33</th>\n",
       "      <th>34</th>\n",
       "      <th>35</th>\n",
       "      <th>36</th>\n",
       "    </tr>\n",
       "  </thead>\n",
       "  <tbody>\n",
       "    <tr>\n",
       "      <th>0</th>\n",
       "      <td>1.615476</td>\n",
       "      <td>0.011427</td>\n",
       "      <td>-0.569440</td>\n",
       "      <td>-0.411348</td>\n",
       "      <td>-0.250872</td>\n",
       "      <td>0.615006</td>\n",
       "      <td>-0.360613</td>\n",
       "      <td>-0.526366</td>\n",
       "      <td>-0.183729</td>\n",
       "      <td>-0.167464</td>\n",
       "      <td>...</td>\n",
       "      <td>-0.261153</td>\n",
       "      <td>-0.348961</td>\n",
       "      <td>0.406173</td>\n",
       "      <td>-0.184903</td>\n",
       "      <td>0.439734</td>\n",
       "      <td>-0.439734</td>\n",
       "      <td>0.13647</td>\n",
       "      <td>-0.13647</td>\n",
       "      <td>-0.889807</td>\n",
       "      <td>0.889807</td>\n",
       "    </tr>\n",
       "    <tr>\n",
       "      <th>1</th>\n",
       "      <td>0.294225</td>\n",
       "      <td>-0.415085</td>\n",
       "      <td>-0.569440</td>\n",
       "      <td>-0.411348</td>\n",
       "      <td>-0.250872</td>\n",
       "      <td>-0.613314</td>\n",
       "      <td>-0.360613</td>\n",
       "      <td>-0.526366</td>\n",
       "      <td>-0.183729</td>\n",
       "      <td>-0.167464</td>\n",
       "      <td>...</td>\n",
       "      <td>-0.261153</td>\n",
       "      <td>-0.348961</td>\n",
       "      <td>0.406173</td>\n",
       "      <td>-0.184903</td>\n",
       "      <td>0.439734</td>\n",
       "      <td>-0.439734</td>\n",
       "      <td>0.13647</td>\n",
       "      <td>-0.13647</td>\n",
       "      <td>-0.889807</td>\n",
       "      <td>0.889807</td>\n",
       "    </tr>\n",
       "    <tr>\n",
       "      <th>2</th>\n",
       "      <td>-0.743900</td>\n",
       "      <td>-0.706419</td>\n",
       "      <td>-0.569440</td>\n",
       "      <td>-0.411348</td>\n",
       "      <td>-0.250872</td>\n",
       "      <td>-0.629002</td>\n",
       "      <td>-0.360613</td>\n",
       "      <td>-0.526366</td>\n",
       "      <td>5.442790</td>\n",
       "      <td>-0.167464</td>\n",
       "      <td>...</td>\n",
       "      <td>-0.261153</td>\n",
       "      <td>-0.348961</td>\n",
       "      <td>0.406173</td>\n",
       "      <td>-0.184903</td>\n",
       "      <td>-2.274104</td>\n",
       "      <td>2.274104</td>\n",
       "      <td>0.13647</td>\n",
       "      <td>-0.13647</td>\n",
       "      <td>-0.889807</td>\n",
       "      <td>0.889807</td>\n",
       "    </tr>\n",
       "    <tr>\n",
       "      <th>3</th>\n",
       "      <td>0.577351</td>\n",
       "      <td>-0.645822</td>\n",
       "      <td>-0.569440</td>\n",
       "      <td>-0.411348</td>\n",
       "      <td>-0.250872</td>\n",
       "      <td>0.244883</td>\n",
       "      <td>-0.360613</td>\n",
       "      <td>1.899818</td>\n",
       "      <td>-0.183729</td>\n",
       "      <td>-0.167464</td>\n",
       "      <td>...</td>\n",
       "      <td>-0.261153</td>\n",
       "      <td>-0.348961</td>\n",
       "      <td>0.406173</td>\n",
       "      <td>-0.184903</td>\n",
       "      <td>0.439734</td>\n",
       "      <td>-0.439734</td>\n",
       "      <td>0.13647</td>\n",
       "      <td>-0.13647</td>\n",
       "      <td>-0.889807</td>\n",
       "      <td>0.889807</td>\n",
       "    </tr>\n",
       "    <tr>\n",
       "      <th>4</th>\n",
       "      <td>-0.743900</td>\n",
       "      <td>-0.233293</td>\n",
       "      <td>-0.569440</td>\n",
       "      <td>-0.411348</td>\n",
       "      <td>-0.250872</td>\n",
       "      <td>-0.629583</td>\n",
       "      <td>-0.360613</td>\n",
       "      <td>-0.526366</td>\n",
       "      <td>-0.183729</td>\n",
       "      <td>-0.167464</td>\n",
       "      <td>...</td>\n",
       "      <td>-0.261153</td>\n",
       "      <td>-0.348961</td>\n",
       "      <td>0.406173</td>\n",
       "      <td>-0.184903</td>\n",
       "      <td>0.439734</td>\n",
       "      <td>-0.439734</td>\n",
       "      <td>0.13647</td>\n",
       "      <td>-0.13647</td>\n",
       "      <td>1.123840</td>\n",
       "      <td>-1.123840</td>\n",
       "    </tr>\n",
       "    <tr>\n",
       "      <th>...</th>\n",
       "      <td>...</td>\n",
       "      <td>...</td>\n",
       "      <td>...</td>\n",
       "      <td>...</td>\n",
       "      <td>...</td>\n",
       "      <td>...</td>\n",
       "      <td>...</td>\n",
       "      <td>...</td>\n",
       "      <td>...</td>\n",
       "      <td>...</td>\n",
       "      <td>...</td>\n",
       "      <td>...</td>\n",
       "      <td>...</td>\n",
       "      <td>...</td>\n",
       "      <td>...</td>\n",
       "      <td>...</td>\n",
       "      <td>...</td>\n",
       "      <td>...</td>\n",
       "      <td>...</td>\n",
       "      <td>...</td>\n",
       "      <td>...</td>\n",
       "    </tr>\n",
       "    <tr>\n",
       "      <th>44461</th>\n",
       "      <td>0.954851</td>\n",
       "      <td>2.791914</td>\n",
       "      <td>0.075633</td>\n",
       "      <td>-0.411348</td>\n",
       "      <td>-0.250872</td>\n",
       "      <td>-0.150806</td>\n",
       "      <td>-0.360613</td>\n",
       "      <td>-0.526366</td>\n",
       "      <td>-0.183729</td>\n",
       "      <td>-0.167464</td>\n",
       "      <td>...</td>\n",
       "      <td>-0.261153</td>\n",
       "      <td>-0.348961</td>\n",
       "      <td>0.406173</td>\n",
       "      <td>-0.184903</td>\n",
       "      <td>0.439734</td>\n",
       "      <td>-0.439734</td>\n",
       "      <td>0.13647</td>\n",
       "      <td>-0.13647</td>\n",
       "      <td>1.123840</td>\n",
       "      <td>-1.123840</td>\n",
       "    </tr>\n",
       "    <tr>\n",
       "      <th>44462</th>\n",
       "      <td>2.842352</td>\n",
       "      <td>0.768894</td>\n",
       "      <td>-0.246903</td>\n",
       "      <td>-0.411348</td>\n",
       "      <td>-0.250872</td>\n",
       "      <td>0.374455</td>\n",
       "      <td>-0.360613</td>\n",
       "      <td>-0.526366</td>\n",
       "      <td>-0.183729</td>\n",
       "      <td>-0.167464</td>\n",
       "      <td>...</td>\n",
       "      <td>-0.261153</td>\n",
       "      <td>-0.348961</td>\n",
       "      <td>0.406173</td>\n",
       "      <td>-0.184903</td>\n",
       "      <td>0.439734</td>\n",
       "      <td>-0.439734</td>\n",
       "      <td>0.13647</td>\n",
       "      <td>-0.13647</td>\n",
       "      <td>1.123840</td>\n",
       "      <td>-1.123840</td>\n",
       "    </tr>\n",
       "    <tr>\n",
       "      <th>44463</th>\n",
       "      <td>2.936727</td>\n",
       "      <td>3.374582</td>\n",
       "      <td>0.720705</td>\n",
       "      <td>1.433727</td>\n",
       "      <td>1.047763</td>\n",
       "      <td>2.690483</td>\n",
       "      <td>-0.360613</td>\n",
       "      <td>-0.526366</td>\n",
       "      <td>-0.183729</td>\n",
       "      <td>-0.167464</td>\n",
       "      <td>...</td>\n",
       "      <td>-0.261153</td>\n",
       "      <td>-0.348961</td>\n",
       "      <td>-2.462003</td>\n",
       "      <td>5.408233</td>\n",
       "      <td>0.439734</td>\n",
       "      <td>-0.439734</td>\n",
       "      <td>0.13647</td>\n",
       "      <td>-0.13647</td>\n",
       "      <td>1.123840</td>\n",
       "      <td>-1.123840</td>\n",
       "    </tr>\n",
       "    <tr>\n",
       "      <th>44464</th>\n",
       "      <td>1.521101</td>\n",
       "      <td>0.971662</td>\n",
       "      <td>0.398169</td>\n",
       "      <td>-0.411348</td>\n",
       "      <td>-0.250872</td>\n",
       "      <td>-0.242029</td>\n",
       "      <td>-0.360613</td>\n",
       "      <td>1.899818</td>\n",
       "      <td>-0.183729</td>\n",
       "      <td>-0.167464</td>\n",
       "      <td>...</td>\n",
       "      <td>3.829172</td>\n",
       "      <td>-0.348961</td>\n",
       "      <td>0.406173</td>\n",
       "      <td>-0.184903</td>\n",
       "      <td>0.439734</td>\n",
       "      <td>-0.439734</td>\n",
       "      <td>0.13647</td>\n",
       "      <td>-0.13647</td>\n",
       "      <td>1.123840</td>\n",
       "      <td>-1.123840</td>\n",
       "    </tr>\n",
       "    <tr>\n",
       "      <th>44465</th>\n",
       "      <td>-0.366400</td>\n",
       "      <td>0.400649</td>\n",
       "      <td>-0.246903</td>\n",
       "      <td>1.473621</td>\n",
       "      <td>4.510791</td>\n",
       "      <td>1.096107</td>\n",
       "      <td>-0.360613</td>\n",
       "      <td>-0.526366</td>\n",
       "      <td>5.442790</td>\n",
       "      <td>-0.167464</td>\n",
       "      <td>...</td>\n",
       "      <td>-0.261153</td>\n",
       "      <td>-0.348961</td>\n",
       "      <td>0.406173</td>\n",
       "      <td>-0.184903</td>\n",
       "      <td>0.439734</td>\n",
       "      <td>-0.439734</td>\n",
       "      <td>0.13647</td>\n",
       "      <td>-0.13647</td>\n",
       "      <td>1.123840</td>\n",
       "      <td>-1.123840</td>\n",
       "    </tr>\n",
       "  </tbody>\n",
       "</table>\n",
       "<p>44466 rows × 37 columns</p>\n",
       "</div>"
      ],
      "text/plain": [
       "             0         1         2         3         4         5         6   \\\n",
       "0      1.615476  0.011427 -0.569440 -0.411348 -0.250872  0.615006 -0.360613   \n",
       "1      0.294225 -0.415085 -0.569440 -0.411348 -0.250872 -0.613314 -0.360613   \n",
       "2     -0.743900 -0.706419 -0.569440 -0.411348 -0.250872 -0.629002 -0.360613   \n",
       "3      0.577351 -0.645822 -0.569440 -0.411348 -0.250872  0.244883 -0.360613   \n",
       "4     -0.743900 -0.233293 -0.569440 -0.411348 -0.250872 -0.629583 -0.360613   \n",
       "...         ...       ...       ...       ...       ...       ...       ...   \n",
       "44461  0.954851  2.791914  0.075633 -0.411348 -0.250872 -0.150806 -0.360613   \n",
       "44462  2.842352  0.768894 -0.246903 -0.411348 -0.250872  0.374455 -0.360613   \n",
       "44463  2.936727  3.374582  0.720705  1.433727  1.047763  2.690483 -0.360613   \n",
       "44464  1.521101  0.971662  0.398169 -0.411348 -0.250872 -0.242029 -0.360613   \n",
       "44465 -0.366400  0.400649 -0.246903  1.473621  4.510791  1.096107 -0.360613   \n",
       "\n",
       "             7         8         9   ...        27        28        29  \\\n",
       "0     -0.526366 -0.183729 -0.167464  ... -0.261153 -0.348961  0.406173   \n",
       "1     -0.526366 -0.183729 -0.167464  ... -0.261153 -0.348961  0.406173   \n",
       "2     -0.526366  5.442790 -0.167464  ... -0.261153 -0.348961  0.406173   \n",
       "3      1.899818 -0.183729 -0.167464  ... -0.261153 -0.348961  0.406173   \n",
       "4     -0.526366 -0.183729 -0.167464  ... -0.261153 -0.348961  0.406173   \n",
       "...         ...       ...       ...  ...       ...       ...       ...   \n",
       "44461 -0.526366 -0.183729 -0.167464  ... -0.261153 -0.348961  0.406173   \n",
       "44462 -0.526366 -0.183729 -0.167464  ... -0.261153 -0.348961  0.406173   \n",
       "44463 -0.526366 -0.183729 -0.167464  ... -0.261153 -0.348961 -2.462003   \n",
       "44464  1.899818 -0.183729 -0.167464  ...  3.829172 -0.348961  0.406173   \n",
       "44465 -0.526366  5.442790 -0.167464  ... -0.261153 -0.348961  0.406173   \n",
       "\n",
       "             30        31        32       33       34        35        36  \n",
       "0     -0.184903  0.439734 -0.439734  0.13647 -0.13647 -0.889807  0.889807  \n",
       "1     -0.184903  0.439734 -0.439734  0.13647 -0.13647 -0.889807  0.889807  \n",
       "2     -0.184903 -2.274104  2.274104  0.13647 -0.13647 -0.889807  0.889807  \n",
       "3     -0.184903  0.439734 -0.439734  0.13647 -0.13647 -0.889807  0.889807  \n",
       "4     -0.184903  0.439734 -0.439734  0.13647 -0.13647  1.123840 -1.123840  \n",
       "...         ...       ...       ...      ...      ...       ...       ...  \n",
       "44461 -0.184903  0.439734 -0.439734  0.13647 -0.13647  1.123840 -1.123840  \n",
       "44462 -0.184903  0.439734 -0.439734  0.13647 -0.13647  1.123840 -1.123840  \n",
       "44463  5.408233  0.439734 -0.439734  0.13647 -0.13647  1.123840 -1.123840  \n",
       "44464 -0.184903  0.439734 -0.439734  0.13647 -0.13647  1.123840 -1.123840  \n",
       "44465 -0.184903  0.439734 -0.439734  0.13647 -0.13647  1.123840 -1.123840  \n",
       "\n",
       "[44466 rows x 37 columns]"
      ]
     },
     "execution_count": 74,
     "metadata": {},
     "output_type": "execute_result"
    }
   ],
   "source": [
    "from sklearn.preprocessing import StandardScaler\n",
    "scaler = StandardScaler()\n",
    "features_scaled = scaler.fit_transform(features)\n",
    "pd.DataFrame(features_scaled)"
   ]
  },
  {
   "cell_type": "code",
   "execution_count": 75,
   "metadata": {},
   "outputs": [],
   "source": [
    "# Separando dados de treino e teste\n",
    "x_treino, x_teste, y_treino, y_teste = train_test_split(features_scaled, target, test_size = 0.3, random_state = 42)"
   ]
  },
  {
   "cell_type": "markdown",
   "metadata": {},
   "source": [
    "## Modelo Logistic Regression"
   ]
  },
  {
   "cell_type": "code",
   "execution_count": 76,
   "metadata": {},
   "outputs": [],
   "source": [
    "# Treinando o algoritmo\n",
    "lr = LogisticRegression(random_state=42)\n",
    "model1 = lr.fit(x_treino, y_treino)"
   ]
  },
  {
   "cell_type": "code",
   "execution_count": 77,
   "metadata": {},
   "outputs": [],
   "source": [
    "# Predizendo o resultado\n",
    "y_pred = model1.predict(x_teste)"
   ]
  },
  {
   "cell_type": "code",
   "execution_count": 78,
   "metadata": {
    "scrolled": true
   },
   "outputs": [
    {
     "data": {
      "text/plain": [
       "0.9"
      ]
     },
     "execution_count": 78,
     "metadata": {},
     "output_type": "execute_result"
    }
   ],
   "source": [
    "# Comparando o resultado predito com o resultado real e checando a acurácia do modelo\n",
    "accuracy_score(y_teste, y_pred).round(2)"
   ]
  },
  {
   "cell_type": "markdown",
   "metadata": {},
   "source": [
    "A acurácia é uma das maneiras de verificar a qualidade do modelo.\n",
    "Nossa base é desbalanceada, então a acurácia nesse caso não é a melhor métrica de avaliação do modelo."
   ]
  },
  {
   "cell_type": "markdown",
   "metadata": {},
   "source": [
    "## Métricas de qualidade"
   ]
  },
  {
   "cell_type": "markdown",
   "metadata": {},
   "source": [
    "Devemos saber como medir a qualidade dos nossos modelos. No caso de modelos supervisionados, temos alguns métodos de validação que são bem conhecidos."
   ]
  },
  {
   "cell_type": "markdown",
   "metadata": {},
   "source": [
    "### Matriz de confusão\n",
    "A Matriz de Confusão é uma forma de mostrar mais claramente quantos são:\n",
    "\n",
    "Verdadeiros Positivos (quem subscreveu e o modelo disse que subscreveu)\n",
    "Falsos Positivos (quem não subscreveu e o modelo disse que subscreveu)\n",
    "Verdadeiros Negativos (quem não subscreveu e o modelo disse que não subscreveu)\n",
    "Falsos Negativos (quem subscreveu e o modelo disse que não subscreveu)\n",
    "\n",
    "![tt](https://sebastianraschka.com/images/faq/multiclass-metric/conf_mat.png)"
   ]
  },
  {
   "cell_type": "code",
   "execution_count": 79,
   "metadata": {
    "scrolled": true
   },
   "outputs": [
    {
     "data": {
      "text/html": [
       "<div>\n",
       "<style scoped>\n",
       "    .dataframe tbody tr th:only-of-type {\n",
       "        vertical-align: middle;\n",
       "    }\n",
       "\n",
       "    .dataframe tbody tr th {\n",
       "        vertical-align: top;\n",
       "    }\n",
       "\n",
       "    .dataframe thead th {\n",
       "        text-align: right;\n",
       "    }\n",
       "</style>\n",
       "<table border=\"1\" class=\"dataframe\">\n",
       "  <thead>\n",
       "    <tr style=\"text-align: right;\">\n",
       "      <th>Predito</th>\n",
       "      <th>0</th>\n",
       "      <th>1</th>\n",
       "      <th>All</th>\n",
       "    </tr>\n",
       "    <tr>\n",
       "      <th>Real</th>\n",
       "      <th></th>\n",
       "      <th></th>\n",
       "      <th></th>\n",
       "    </tr>\n",
       "  </thead>\n",
       "  <tbody>\n",
       "    <tr>\n",
       "      <th>0</th>\n",
       "      <td>11536</td>\n",
       "      <td>293</td>\n",
       "      <td>11829</td>\n",
       "    </tr>\n",
       "    <tr>\n",
       "      <th>1</th>\n",
       "      <td>1031</td>\n",
       "      <td>480</td>\n",
       "      <td>1511</td>\n",
       "    </tr>\n",
       "    <tr>\n",
       "      <th>All</th>\n",
       "      <td>12567</td>\n",
       "      <td>773</td>\n",
       "      <td>13340</td>\n",
       "    </tr>\n",
       "  </tbody>\n",
       "</table>\n",
       "</div>"
      ],
      "text/plain": [
       "Predito      0    1    All\n",
       "Real                      \n",
       "0        11536  293  11829\n",
       "1         1031  480   1511\n",
       "All      12567  773  13340"
      ]
     },
     "execution_count": 79,
     "metadata": {},
     "output_type": "execute_result"
    }
   ],
   "source": [
    "matriz_confusao = pd.crosstab(y_teste, y_pred, rownames=['Real'], colnames=['Predito'], margins=True) # confusion_matrix\n",
    "matriz_confusao"
   ]
  },
  {
   "cell_type": "markdown",
   "metadata": {},
   "source": [
    "A matriz de confusão nos mostra o número exato de registros classificados por classe.\n",
    "Temos 1031 registos classificados como sendo da classe 0 (não subscreveu) quando na verdade eram da classe 1 (subscreveu)."
   ]
  },
  {
   "cell_type": "markdown",
   "metadata": {},
   "source": [
    "###  Precision e recall\n",
    "\n",
    "A partir da matriz de confusão algumas taxas podem ser calculadas.\n",
    "\n",
    "Vamos visualizar de outra maneira os dados sendo testados:\n",
    "\n",
    "![pr](https://upload.wikimedia.org/wikipedia/commons/thumb/a/ab/Precis%C3%A3o_e_revoca%C3%A7%C3%A3o.png/262px-Precis%C3%A3o_e_revoca%C3%A7%C3%A3o.png)\n",
    "\n",
    "###### PRECISION\n",
    "\n",
    "*Precision* representa quanto dos elementos julgados como 'Subscreveu', de fato são 'Subscreveu'. \n",
    "Mede a taxa de acerto do classificador dentre os valores <span class=\"atencao\">estimados</span>.\n",
    "\n",
    "###### RECALL\n",
    "\n",
    "*Recall* representa quantos dos reais 'Subscreveu' foram de fato classificados como 'Subscreveu'.\n",
    "Mede a taxa de acerto do classificador dentre os valores <span class=\"atencao\">reais</span>."
   ]
  },
  {
   "cell_type": "code",
   "execution_count": 80,
   "metadata": {},
   "outputs": [
    {
     "name": "stdout",
     "output_type": "stream",
     "text": [
      "              precision    recall  f1-score   support\n",
      "\n",
      "           0       0.92      0.98      0.95     11829\n",
      "           1       0.62      0.32      0.42      1511\n",
      "\n",
      "    accuracy                           0.90     13340\n",
      "   macro avg       0.77      0.65      0.68     13340\n",
      "weighted avg       0.88      0.90      0.89     13340\n",
      "\n"
     ]
    }
   ],
   "source": [
    "from sklearn import metrics\n",
    "print(metrics.classification_report(y_teste, y_pred))"
   ]
  },
  {
   "cell_type": "markdown",
   "metadata": {},
   "source": [
    "Nota-se que o recall (número de acertos) para a classe 0 é muito alta, por outro lado é bem baixa para a classe 1.\n",
    "\n",
    "Isso só reforça o que já sabemos, nosso modelo está enviesado, ele aprendeu mais sobre a classe que tinha uma maior quantidade de exemplos."
   ]
  },
  {
   "cell_type": "markdown",
   "metadata": {},
   "source": [
    "## Balanceamento dos dados\n",
    "\n",
    "Vamos aplicar o SMOTE (Synthetic Minority Over-sampling Technique). Esse algoritmo gera dados sintéticos da classe minoritária."
   ]
  },
  {
   "cell_type": "code",
   "execution_count": 81,
   "metadata": {},
   "outputs": [
    {
     "data": {
      "text/plain": [
       "array([39298,  5168], dtype=int64)"
      ]
     },
     "execution_count": 81,
     "metadata": {},
     "output_type": "execute_result"
    }
   ],
   "source": [
    "# Visualizando a quantidade de dados por classe\n",
    "np.bincount(target)"
   ]
  },
  {
   "cell_type": "code",
   "execution_count": 82,
   "metadata": {},
   "outputs": [],
   "source": [
    "smt = SMOTE(random_state=42)"
   ]
  },
  {
   "cell_type": "markdown",
   "metadata": {},
   "source": [
    "Essa técnica possui o parâmetro sampling_strategy que nos permiti definir qual a porcentagem de dados sintéticos que queremos.\n",
    "Se definirmos 0.5 por exemplo, ele vai gerar dados sintéticos até 50% da classe majoritária. Mas a título de exemplo será usada o método padrão."
   ]
  },
  {
   "cell_type": "code",
   "execution_count": 83,
   "metadata": {},
   "outputs": [],
   "source": [
    "X, y = smt.fit_resample(features_scaled, target)"
   ]
  },
  {
   "cell_type": "code",
   "execution_count": 84,
   "metadata": {},
   "outputs": [
    {
     "data": {
      "text/plain": [
       "array([39298, 39298], dtype=int64)"
      ]
     },
     "execution_count": 84,
     "metadata": {},
     "output_type": "execute_result"
    }
   ],
   "source": [
    "np.bincount(y)"
   ]
  },
  {
   "cell_type": "code",
   "execution_count": 85,
   "metadata": {},
   "outputs": [
    {
     "data": {
      "image/png": "[encoded data removed]",
      "text/plain": [
       "<Figure size 432x288 with 1 Axes>"
      ]
     },
     "metadata": {
      "needs_background": "light"
     },
     "output_type": "display_data"
    }
   ],
   "source": [
    "ax = sns.countplot(x=y)"
   ]
  },
  {
   "cell_type": "code",
   "execution_count": 86,
   "metadata": {},
   "outputs": [],
   "source": [
    "# Separando dados de treino e teste do dataset balanceado\n",
    "X_train, X_test, y_train, y_test = train_test_split(X, y, random_state = 42, test_size = 0.3)"
   ]
  },
  {
   "cell_type": "code",
   "execution_count": 87,
   "metadata": {},
   "outputs": [],
   "source": [
    "# Treinando o algoritmo\n",
    "model_bal = lr.fit(X_train, y_train)"
   ]
  },
  {
   "cell_type": "code",
   "execution_count": 88,
   "metadata": {},
   "outputs": [],
   "source": [
    "# Predizendo o resultado após balanceamento\n",
    "y_pred_novo = model_bal.predict(X_test)"
   ]
  },
  {
   "cell_type": "code",
   "execution_count": 89,
   "metadata": {},
   "outputs": [
    {
     "data": {
      "text/plain": [
       "0.83"
      ]
     },
     "execution_count": 89,
     "metadata": {},
     "output_type": "execute_result"
    }
   ],
   "source": [
    "# Comparando o resultado predito com o resultado real e checando a acurácia do modelo\n",
    "accuracy_score(y_test, y_pred_novo).round(2)"
   ]
  },
  {
   "cell_type": "code",
   "execution_count": 90,
   "metadata": {},
   "outputs": [
    {
     "name": "stdout",
     "output_type": "stream",
     "text": [
      "              precision    recall  f1-score   support\n",
      "\n",
      "           0       0.82      0.84      0.83     11808\n",
      "           1       0.83      0.82      0.82     11771\n",
      "\n",
      "    accuracy                           0.83     23579\n",
      "   macro avg       0.83      0.83      0.83     23579\n",
      "weighted avg       0.83      0.83      0.83     23579\n",
      "\n"
     ]
    }
   ],
   "source": [
    "print (classification_report(y_test, y_pred_novo))"
   ]
  },
  {
   "cell_type": "markdown",
   "metadata": {},
   "source": [
    " Temos um número de acertos parecido para as duas classes"
   ]
  },
  {
   "cell_type": "code",
   "execution_count": 91,
   "metadata": {},
   "outputs": [
    {
     "name": "stdout",
     "output_type": "stream",
     "text": [
      "Predito      0      1    All\n",
      "Real                        \n",
      "0         9882   1926  11808\n",
      "1         2157   9614  11771\n",
      "All      12039  11540  23579\n"
     ]
    }
   ],
   "source": [
    "#matriz de confusão\n",
    "print (pd.crosstab(y_test, y_pred_novo, rownames=['Real'], colnames=['Predito'], margins=True))"
   ]
  },
  {
   "cell_type": "markdown",
   "metadata": {},
   "source": [
    "Podemos ver agora que a taxa de acerto para classe 1 (subscreveu) aumentou. Agora temos um bom modelo."
   ]
  },
  {
   "cell_type": "markdown",
   "metadata": {},
   "source": [
    "## Modelo Decision Tree"
   ]
  },
  {
   "cell_type": "code",
   "execution_count": 92,
   "metadata": {},
   "outputs": [],
   "source": [
    "from sklearn.tree import DecisionTreeClassifier"
   ]
  },
  {
   "cell_type": "code",
   "execution_count": 93,
   "metadata": {},
   "outputs": [],
   "source": [
    "clf = DecisionTreeClassifier(max_depth=4, random_state=42)"
   ]
  },
  {
   "cell_type": "code",
   "execution_count": 94,
   "metadata": {},
   "outputs": [
    {
     "data": {
      "text/plain": [
       "DecisionTreeClassifier(max_depth=4, random_state=42)"
      ]
     },
     "execution_count": 94,
     "metadata": {},
     "output_type": "execute_result"
    }
   ],
   "source": [
    "# Treinando o algoritmo\n",
    "clf.fit(X_train, y_train)"
   ]
  },
  {
   "cell_type": "code",
   "execution_count": 95,
   "metadata": {},
   "outputs": [
    {
     "data": {
      "text/html": [
       "<div>\n",
       "<style scoped>\n",
       "    .dataframe tbody tr th:only-of-type {\n",
       "        vertical-align: middle;\n",
       "    }\n",
       "\n",
       "    .dataframe tbody tr th {\n",
       "        vertical-align: top;\n",
       "    }\n",
       "\n",
       "    .dataframe thead th {\n",
       "        text-align: right;\n",
       "    }\n",
       "</style>\n",
       "<table border=\"1\" class=\"dataframe\">\n",
       "  <thead>\n",
       "    <tr style=\"text-align: right;\">\n",
       "      <th></th>\n",
       "      <th>0</th>\n",
       "    </tr>\n",
       "  </thead>\n",
       "  <tbody>\n",
       "    <tr>\n",
       "      <th>0</th>\n",
       "      <td>1</td>\n",
       "    </tr>\n",
       "    <tr>\n",
       "      <th>1</th>\n",
       "      <td>0</td>\n",
       "    </tr>\n",
       "    <tr>\n",
       "      <th>2</th>\n",
       "      <td>0</td>\n",
       "    </tr>\n",
       "    <tr>\n",
       "      <th>3</th>\n",
       "      <td>0</td>\n",
       "    </tr>\n",
       "    <tr>\n",
       "      <th>4</th>\n",
       "      <td>1</td>\n",
       "    </tr>\n",
       "    <tr>\n",
       "      <th>...</th>\n",
       "      <td>...</td>\n",
       "    </tr>\n",
       "    <tr>\n",
       "      <th>23574</th>\n",
       "      <td>1</td>\n",
       "    </tr>\n",
       "    <tr>\n",
       "      <th>23575</th>\n",
       "      <td>0</td>\n",
       "    </tr>\n",
       "    <tr>\n",
       "      <th>23576</th>\n",
       "      <td>1</td>\n",
       "    </tr>\n",
       "    <tr>\n",
       "      <th>23577</th>\n",
       "      <td>1</td>\n",
       "    </tr>\n",
       "    <tr>\n",
       "      <th>23578</th>\n",
       "      <td>0</td>\n",
       "    </tr>\n",
       "  </tbody>\n",
       "</table>\n",
       "<p>23579 rows × 1 columns</p>\n",
       "</div>"
      ],
      "text/plain": [
       "       0\n",
       "0      1\n",
       "1      0\n",
       "2      0\n",
       "3      0\n",
       "4      1\n",
       "...   ..\n",
       "23574  1\n",
       "23575  0\n",
       "23576  1\n",
       "23577  1\n",
       "23578  0\n",
       "\n",
       "[23579 rows x 1 columns]"
      ]
     },
     "execution_count": 95,
     "metadata": {},
     "output_type": "execute_result"
    }
   ],
   "source": [
    "# Predizendo o resultado\n",
    "predict = clf.predict(X_test)\n",
    "pd.DataFrame(predict)"
   ]
  },
  {
   "cell_type": "code",
   "execution_count": 96,
   "metadata": {},
   "outputs": [
    {
     "data": {
      "text/plain": [
       "0.81"
      ]
     },
     "execution_count": 96,
     "metadata": {},
     "output_type": "execute_result"
    }
   ],
   "source": [
    "# Comparando o resultado predito com o resultado real e checando a acurácia do modelo\n",
    "accuracy_score(y_test,predict).round(2)"
   ]
  },
  {
   "cell_type": "code",
   "execution_count": 97,
   "metadata": {},
   "outputs": [
    {
     "name": "stdout",
     "output_type": "stream",
     "text": [
      "              precision    recall  f1-score   support\n",
      "\n",
      "           0       0.82      0.79      0.81     11808\n",
      "           1       0.80      0.83      0.81     11771\n",
      "\n",
      "    accuracy                           0.81     23579\n",
      "   macro avg       0.81      0.81      0.81     23579\n",
      "weighted avg       0.81      0.81      0.81     23579\n",
      "\n"
     ]
    }
   ],
   "source": [
    "print (classification_report(y_test, predict))"
   ]
  },
  {
   "cell_type": "code",
   "execution_count": 98,
   "metadata": {
    "scrolled": false
   },
   "outputs": [
    {
     "name": "stdout",
     "output_type": "stream",
     "text": [
      "Predito      0      1    All\n",
      "Real                        \n",
      "0         9370   2438  11808\n",
      "1         2022   9749  11771\n",
      "All      11392  12187  23579\n"
     ]
    }
   ],
   "source": [
    "#matriz de confusão\n",
    "print (pd.crosstab(y_test, predict, rownames=['Real'], colnames=['Predito'], margins=True))"
   ]
  },
  {
   "cell_type": "markdown",
   "metadata": {},
   "source": [
    "## Features importance"
   ]
  },
  {
   "cell_type": "code",
   "execution_count": 99,
   "metadata": {},
   "outputs": [
    {
     "data": {
      "text/plain": [
       "RFE(estimator=LogisticRegression(random_state=42), n_features_to_select=6)"
      ]
     },
     "execution_count": 99,
     "metadata": {},
     "output_type": "execute_result"
    }
   ],
   "source": [
    "from sklearn.feature_selection import RFE\n",
    "seletor = RFE(lr, n_features_to_select=6, step=1)\n",
    "features_selected = seletor.fit(X_train, y_train)\n",
    "features_selected"
   ]
  },
  {
   "cell_type": "code",
   "execution_count": 100,
   "metadata": {},
   "outputs": [
    {
     "data": {
      "text/plain": [
       "array([False,  True,  True, False, False, False, False, False, False,\n",
       "       False, False, False, False, False, False, False, False, False,\n",
       "       False, False, False, False, False, False, False, False,  True,\n",
       "       False, False, False,  True, False,  True, False, False, False,\n",
       "        True])"
      ]
     },
     "execution_count": 100,
     "metadata": {},
     "output_type": "execute_result"
    }
   ],
   "source": [
    "#  Combinação de features de acordo com nossos dados. Aonde está True significa que ele escolheu aquela feature.\n",
    "features_selected.support_"
   ]
  },
  {
   "cell_type": "code",
   "execution_count": 101,
   "metadata": {},
   "outputs": [
    {
     "data": {
      "text/plain": [
       "array([32,  1,  1, 18,  7, 13, 11, 14, 20, 23, 30, 22,  8, 19, 21, 10, 27,\n",
       "       31, 29, 25, 12, 26,  3, 17,  9,  4,  1,  5, 16, 15,  1,  6,  1, 28,\n",
       "       24,  2,  1])"
      ]
     },
     "execution_count": 101,
     "metadata": {},
     "output_type": "execute_result"
    }
   ],
   "source": [
    "#Ranking de quão boas são as features \n",
    "features_selected.ranking_"
   ]
  },
  {
   "cell_type": "code",
   "execution_count": 102,
   "metadata": {},
   "outputs": [
    {
     "data": {
      "text/plain": [
       "Index(['age', 'duration', 'campaign', 'pdays', 'previous', 'balance',\n",
       "       'job_admin.', 'job_blue-collar', 'job_entrepreneur', 'job_housemaid',\n",
       "       'job_management', 'job_other', 'job_retired', 'job_self-employed',\n",
       "       'job_services', 'job_student', 'job_technician', 'job_unemployed',\n",
       "       'marital_divorced', 'marital_married', 'marital_single',\n",
       "       'education_other', 'education_primary', 'education_secondary',\n",
       "       'education_tertiary', 'contact_cellular', 'contact_other',\n",
       "       'contact_telephone', 'poutcome_failure', 'poutcome_other',\n",
       "       'poutcome_success', 'loan_no', 'loan_yes', 'default_no', 'default_yes',\n",
       "       'housing_no', 'housing_yes'],\n",
       "      dtype='object')"
      ]
     },
     "execution_count": 102,
     "metadata": {},
     "output_type": "execute_result"
    }
   ],
   "source": [
    "features.columns"
   ]
  },
  {
   "cell_type": "code",
   "execution_count": null,
   "metadata": {},
   "outputs": [],
   "source": []
  }
 ],
 "metadata": {
  "kernelspec": {
   "display_name": "Python 3",
   "language": "python",
   "name": "python3"
  },
  "language_info": {
   "codemirror_mode": {
    "name": "ipython",
    "version": 3
   },
   "file_extension": ".py",
   "mimetype": "text/x-python",
   "name": "python",
   "nbconvert_exporter": "python",
   "pygments_lexer": "ipython3",
   "version": "3.8.5"
  }
 },
 "nbformat": 4,
 "nbformat_minor": 4
}
